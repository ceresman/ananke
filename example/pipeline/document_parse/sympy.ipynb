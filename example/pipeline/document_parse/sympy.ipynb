{
 "cells": [
  {
   "cell_type": "code",
   "execution_count": 1,
   "id": "73eb9256-f9a5-4699-90db-ad337b8a6ca5",
   "metadata": {},
   "outputs": [
    {
     "name": "stdout",
     "output_type": "stream",
     "text": [
      "Simplified equation: Eq(x**3 - 6*x**2 + 11*x, 6)\n",
      "The solutions are: [1, 2, 3]\n"
     ]
    }
   ],
   "source": [
    "from sympy import symbols, Eq, solve, simplify\n",
    "\n",
    "# 定义符号\n",
    "x = symbols('x')\n",
    "\n",
    "# 定义一元三次方程\n",
    "equation = Eq(x**3 - 6*x**2 + 11*x - 6, 0)\n",
    "\n",
    "# 使用 SymPy 的 simplify 函数化简方程\n",
    "simplified_equation = simplify(equation)\n",
    "\n",
    "# 输出化简后的方程\n",
    "print(\"Simplified equation:\", simplified_equation)\n",
    "\n",
    "# 使用 solve 函数求解方程\n",
    "solutions = solve(simplified_equation, x)\n",
    "\n",
    "# 输出解\n",
    "print(\"The solutions are:\", solutions)"
   ]
  },
  {
   "cell_type": "code",
   "execution_count": null,
   "id": "dd74c9e2-a677-4604-bb58-1946a8a282d9",
   "metadata": {},
   "outputs": [],
   "source": []
  }
 ],
 "metadata": {
  "kernelspec": {
   "display_name": "Python 3 (ipykernel)",
   "language": "python",
   "name": "python3"
  },
  "language_info": {
   "codemirror_mode": {
    "name": "ipython",
    "version": 3
   },
   "file_extension": ".py",
   "mimetype": "text/x-python",
   "name": "python",
   "nbconvert_exporter": "python",
   "pygments_lexer": "ipython3",
   "version": "3.10.11"
  }
 },
 "nbformat": 4,
 "nbformat_minor": 5
}
