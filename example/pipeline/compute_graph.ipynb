{
 "cells": [
  {
   "cell_type": "markdown",
   "id": "9024d602-9c7c-43fe-aa9a-5442ff480313",
   "metadata": {},
   "source": [
    "# 计算图架构示例"
   ]
  },
  {
   "cell_type": "code",
   "execution_count": 1,
   "id": "047c56b1-f171-4022-9c15-a6caeef7baf2",
   "metadata": {},
   "outputs": [],
   "source": [
    "import networkx as nx\n",
    "from concurrent.futures import ThreadPoolExecutor, as_completed\n",
    "import time"
   ]
  },
  {
   "cell_type": "markdown",
   "id": "daa7c29e-9a27-4102-b876-f6367a21a148",
   "metadata": {},
   "source": [
    "## 创建一个有向图"
   ]
  },
  {
   "cell_type": "code",
   "execution_count": 2,
   "id": "4edd1cee-2517-4962-b5ed-befb65292397",
   "metadata": {},
   "outputs": [],
   "source": [
    "graph = nx.DiGraph()"
   ]
  },
  {
   "cell_type": "code",
   "execution_count": 3,
   "id": "f69b8644-2c82-4443-8719-3794ddbe80b4",
   "metadata": {},
   "outputs": [],
   "source": [
    "## 定义五个函数\n",
    "def function1(data, count):\n",
    "    count[0] += 1\n",
    "    timestamp = time.time()\n",
    "    print(f\"Function 1 - Run {count[0]} at {timestamp}\")\n",
    "    data[\"a\"] += 1\n",
    "    time.sleep(1)  # 模拟耗时操作\n",
    "    return data\n",
    "\n",
    "def function2(data, count):\n",
    "    count[1] += 1\n",
    "    timestamp = time.time()\n",
    "    print(f\"Function 2 - Run {count[1]} at {timestamp}\")\n",
    "    data[\"b\"] *= 2\n",
    "    time.sleep(2)  # 模拟耗时操作\n",
    "    return data\n",
    "\n",
    "def function3(data, count):\n",
    "    count[2] += 1\n",
    "    timestamp = time.time()\n",
    "    print(f\"Function 3 - Run {count[2]} at {timestamp}\")\n",
    "    data[\"c\"] -= 1\n",
    "    time.sleep(3)  # 模拟耗时操作\n",
    "    return data\n",
    "\n",
    "def function4(data, count):\n",
    "    count[3] += 1\n",
    "    timestamp = time.time()\n",
    "    print(f\"Function 4 - Run {count[3]} at {timestamp}\")\n",
    "    data[\"d\"] = data[\"a\"] * data[\"b\"]\n",
    "    time.sleep(1)  # 模拟耗时操作\n",
    "    return data\n",
    "\n",
    "def function5(data, count):\n",
    "    count[4] += 1\n",
    "    timestamp = time.time()\n",
    "    print(f\"Function 5 - Run {count[4]} at {timestamp}\")\n",
    "    data[\"e\"] = data[\"a\"] + data[\"b\"] + data[\"c\"] + data[\"d\"]\n",
    "    time.sleep(1)  # 模拟耗时操作\n",
    "    return data"
   ]
  },
  {
   "cell_type": "markdown",
   "id": "5cabd5cd-b0fa-4b83-a641-e93d1909d2c4",
   "metadata": {},
   "source": [
    "## 添加节点和边"
   ]
  },
  {
   "cell_type": "code",
   "execution_count": 4,
   "id": "0ab5030f-e724-4798-88eb-e5fc25b64e34",
   "metadata": {},
   "outputs": [],
   "source": [
    "graph.add_node(function1)\n",
    "graph.add_node(function2)\n",
    "graph.add_node(function3)\n",
    "graph.add_node(function4)\n",
    "graph.add_node(function5)\n",
    "graph.add_edge(function1, function4)\n",
    "graph.add_edge(function2, function5)\n",
    "graph.add_edge(function3, function4)\n",
    "graph.add_edge(function4, function5)"
   ]
  },
  {
   "cell_type": "code",
   "execution_count": 5,
   "id": "565126b2-86a2-4a57-a984-950c4cbb1569",
   "metadata": {},
   "outputs": [
    {
     "name": "stdout",
     "output_type": "stream",
     "text": [
      "Function 0 - Run at 1699377842.6658568\n",
      "Function 1 - Run 1 at 1699377842.666327\n",
      "Function 2 - Run 1 at 1699377842.6665049\n",
      "Function 3 - Run 1 at 1699377842.6666522\n",
      "Function 4 - Run 1 at 1699377843.667532\n",
      "Function 5 - Run 1 at 1699377844.6687078\n",
      "Final Data: {'a': 2, 'b': 4, 'c': 2, 'd': 8, 'e': 16}\n",
      "Function 1 - Run 2 at 1699377845.6718342\n",
      "Function 2 - Run 2 at 1699377845.6728225\n",
      "Function 3 - Run 2 at 1699377845.6733139\n",
      "Function 4 - Run 2 at 1699377845.6740556\n",
      "Function 5 - Run 2 at 1699377845.6750836\n",
      "Final Data: {'a': 3, 'b': 8, 'c': 1, 'd': 24, 'e': 36}\n"
     ]
    }
   ],
   "source": [
    "# 执行顺序\n",
    "execution_order = list(nx.topological_sort(graph))\n",
    "\n",
    "# 统一数据结构\n",
    "data = {\n",
    "    \"a\": 1,\n",
    "    \"b\": 2,\n",
    "    \"c\": 3\n",
    "}\n",
    "\n",
    "count = [0, 0, 0, 0, 0]\n",
    "\n",
    "def execute_functions(execution_order, data, count, max_workers=8):\n",
    "    def execute_function(func, data, count):\n",
    "        return func(data, count)\n",
    "\n",
    "    with ThreadPoolExecutor(max_workers=max_workers) as executor:\n",
    "        futures = {executor.submit(execute_function, node, data, count): node for node in execution_order}\n",
    "        for future in as_completed(futures):\n",
    "            node = futures[future]\n",
    "            try:\n",
    "                data = future.result()\n",
    "            except Exception as e:\n",
    "                print(f\"Function {node.__name__} failed to execute: {e}\")\n",
    "    \n",
    "    return data\n",
    "\n",
    "execution_order = list(nx.topological_sort(graph))\n",
    "print(f\"Function 0 - Run at {time.time()}\")\n",
    "\n",
    "final_data = execute_functions(execution_order, data, count, max_workers=3)\n",
    "print(\"Final Data:\", final_data)\n",
    "final_data = execute_functions(execution_order, final_data, count, max_workers=8)\n",
    "print(\"Final Data:\", final_data)"
   ]
  },
  {
   "cell_type": "markdown",
   "id": "868e9cc9-8ee6-4372-98a2-94af803af7ea",
   "metadata": {},
   "source": [
    "可以看到在计算图中123并行执行，随后45并行执行，需要在module执行时模仿这个过程"
   ]
  }
 ],
 "metadata": {
  "kernelspec": {
   "display_name": "Python 3 (ipykernel)",
   "language": "python",
   "name": "python3"
  },
  "language_info": {
   "codemirror_mode": {
    "name": "ipython",
    "version": 3
   },
   "file_extension": ".py",
   "mimetype": "text/x-python",
   "name": "python",
   "nbconvert_exporter": "python",
   "pygments_lexer": "ipython3",
   "version": "3.10.11"
  }
 },
 "nbformat": 4,
 "nbformat_minor": 5
}
