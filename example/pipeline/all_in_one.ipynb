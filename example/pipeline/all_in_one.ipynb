{
 "cells": [
  {
   "cell_type": "markdown",
   "id": "e4c32da6-2647-4446-809b-be93d4dcbefe",
   "metadata": {},
   "source": [
    "# Ananke Pipeline Description\n",
    "![](structure.png)"
   ]
  },
  {
   "cell_type": "markdown",
   "id": "2bccd922-316d-4e4b-8282-ec62b2faa65d",
   "metadata": {},
   "source": [
    "# Structure Design\n",
    "设计模式：生产消费者模式（工厂）\n",
    "## Producer"
   ]
  },
  {
   "cell_type": "markdown",
   "id": "4b52f17b-8d21-4d7e-ae1e-9c9c29d99f75",
   "metadata": {},
   "source": [
    "### Interaction Pipeline"
   ]
  },
  {
   "cell_type": "markdown",
   "id": "2ce44a1e-eb87-472a-aa0a-22e5a88227a8",
   "metadata": {},
   "source": [
    "#### 1.UserInterface"
   ]
  },
  {
   "cell_type": "markdown",
   "id": "92a5e756-120c-4f89-b8c4-c68063bca650",
   "metadata": {},
   "source": [
    "> 在初级的交互式界面中主要使用nodejs + bootstrap\n",
    " \n",
    "\n",
    "[x] 任务需要跑通koodo\n"
   ]
  },
  {
   "cell_type": "markdown",
   "id": "f2b3dc8f-b518-495e-b25a-b5ea0fea8f86",
   "metadata": {},
   "source": [
    "#### 2.Client （Local/Web） Server"
   ]
  },
  {
   "cell_type": "markdown",
   "id": "9122c83f-c891-45b9-8881-768522292344",
   "metadata": {},
   "source": [
    "服务发送以内部http request or 直接调用"
   ]
  },
  {
   "cell_type": "markdown",
   "id": "5adbe02a-2c6b-499d-875d-13802d05bc04",
   "metadata": {},
   "source": [
    "#### 3.LLM Interface"
   ]
  },
  {
   "cell_type": "markdown",
   "id": "2eb870ce-e136-49bf-b875-91d782666876",
   "metadata": {},
   "source": [
    "\n",
    "LLM Support List：\n",
    "- OpenAI\n",
    "- Anthropic\n",
    "- Gradient\n",
    "- Hugging Face\n",
    "- EverlyAI\n",
    "- LiteLLM\n",
    "- PaLM\n",
    "- Predibase\n",
    "- Replicate\n",
    "- LangChain\n",
    "- Llama API\n",
    "- Llama CPP\n",
    "- Xorbits Inference\n",
    "- MonsterAPI\n",
    "- RunGPT\n",
    "- Portkey\n",
    "- AnyScale\n",
    "- Ollama\n",
    "- Konko"
   ]
  },
  {
   "cell_type": "markdown",
   "id": "377b6ace-d512-4acf-8f19-69be132a2d6d",
   "metadata": {},
   "source": [
    "#### 4.Context Processor"
   ]
  },
  {
   "cell_type": "markdown",
   "id": "fe301529-7be8-40df-a008-c19ae9a6c962",
   "metadata": {},
   "source": [
    "主要分为Context压缩重复存储&结构化\n",
    "\n",
    "##### Compressor"
   ]
  },
  {
   "cell_type": "markdown",
   "id": "c134dc50-7db3-496f-815c-5a3ddb5b3187",
   "metadata": {},
   "source": [
    "##### TempStorage"
   ]
  },
  {
   "cell_type": "markdown",
   "id": "49513e8a-9e64-465d-ab14-bb7807c67a1d",
   "metadata": {},
   "source": [
    "##### ContextStructured"
   ]
  },
  {
   "cell_type": "markdown",
   "id": "405c5af6-d729-4196-b249-8f477c03af9f",
   "metadata": {},
   "source": []
  },
  {
   "cell_type": "markdown",
   "id": "591b4c14-f8bf-4a65-8dca-23affd9e91ee",
   "metadata": {},
   "source": [
    "### Document Pipeline"
   ]
  },
  {
   "cell_type": "code",
   "execution_count": null,
   "id": "9b75c6ff-f916-4083-a07a-9477b7dc63b9",
   "metadata": {},
   "outputs": [],
   "source": []
  },
  {
   "cell_type": "markdown",
   "id": "e04fc097-dfe9-4904-abec-53676202006c",
   "metadata": {},
   "source": [
    "#### 1.Unified DocumentLoader"
   ]
  },
  {
   "cell_type": "code",
   "execution_count": null,
   "id": "43382126-815d-488d-bf79-60da175ba47d",
   "metadata": {},
   "outputs": [],
   "source": []
  },
  {
   "cell_type": "markdown",
   "id": "68bdd482-2001-426f-8dc3-aac058e9b6be",
   "metadata": {},
   "source": [
    "#### 2.Specific Document Spilit & Processor"
   ]
  },
  {
   "cell_type": "code",
   "execution_count": null,
   "id": "9e571bb6-32d9-4ce6-8036-fabd88d06c9f",
   "metadata": {},
   "outputs": [],
   "source": []
  },
  {
   "cell_type": "markdown",
   "id": "e02ba16d-0b04-4070-8493-ac54ef8dc0b7",
   "metadata": {},
   "source": [
    "#### 3.MetaParser"
   ]
  },
  {
   "cell_type": "code",
   "execution_count": null,
   "id": "b8ee53c8-8ded-4c1c-9c18-062012892d4c",
   "metadata": {},
   "outputs": [],
   "source": []
  },
  {
   "cell_type": "markdown",
   "id": "081fcac2-d6dc-4ebd-995d-119ae053034d",
   "metadata": {},
   "source": [
    "## Consumer"
   ]
  },
  {
   "cell_type": "markdown",
   "id": "e0a5c069-d991-435c-980b-56d4ed854fec",
   "metadata": {},
   "source": [
    "### Compute System"
   ]
  },
  {
   "cell_type": "markdown",
   "id": "48ae3b22-9904-4dc2-8648-31cbcc592080",
   "metadata": {},
   "source": [
    "#### StructuredChunks Define"
   ]
  },
  {
   "cell_type": "markdown",
   "id": "83293211-3a7b-45ad-a12e-2f46de598fbe",
   "metadata": {},
   "source": [
    "#### Module"
   ]
  },
  {
   "cell_type": "markdown",
   "id": "e838318c-1f89-4720-9b3c-a74573ea4baf",
   "metadata": {},
   "source": [
    "#### Flow"
   ]
  },
  {
   "cell_type": "markdown",
   "id": "0596be9a-583e-4a5d-92d7-bbd9b0acdeaf",
   "metadata": {},
   "source": [
    "##### Retriever"
   ]
  },
  {
   "cell_type": "markdown",
   "id": "3fead7e9-e3f1-4d56-91a7-8ac023872422",
   "metadata": {},
   "source": [
    "### Storage System"
   ]
  },
  {
   "cell_type": "markdown",
   "id": "8b638ac6-0b2d-46c2-a7e9-4beda3125cc9",
   "metadata": {},
   "source": [
    "#### VectorDB"
   ]
  },
  {
   "cell_type": "markdown",
   "id": "1eac8e46-3fb9-4470-a675-500bcbdb196e",
   "metadata": {},
   "source": [
    "##### Chroma"
   ]
  },
  {
   "cell_type": "markdown",
   "id": "197c88ac-61d8-4649-a7d4-6dbea18b1d6a",
   "metadata": {},
   "source": [
    "#### Graph(Structure)DB"
   ]
  },
  {
   "cell_type": "markdown",
   "id": "bd4c35cf-ff6b-4773-880f-5773f95ce0f0",
   "metadata": {},
   "source": [
    "##### Neo4j"
   ]
  },
  {
   "cell_type": "markdown",
   "id": "7ff0854a-d93b-4257-a71f-16a021a5311c",
   "metadata": {},
   "source": [
    "##### Nebula"
   ]
  },
  {
   "cell_type": "markdown",
   "id": "14e5dd19-1f06-40c0-9673-b7d4012ba21a",
   "metadata": {},
   "source": [
    "#### RelationDB"
   ]
  },
  {
   "cell_type": "markdown",
   "id": "927f35f3-a066-4a60-988d-83fd037cb8cc",
   "metadata": {},
   "source": [
    "##### Sqlite3"
   ]
  },
  {
   "cell_type": "markdown",
   "id": "e1bd9494-3c53-43db-b56e-4a23dcb53b52",
   "metadata": {},
   "source": [
    "##### MariaDB"
   ]
  },
  {
   "cell_type": "markdown",
   "id": "a4964f85-3ecf-4efa-b16a-9ff89440f35c",
   "metadata": {},
   "source": []
  }
 ],
 "metadata": {
  "kernelspec": {
   "display_name": "Python 3 (ipykernel)",
   "language": "python",
   "name": "python3"
  },
  "language_info": {
   "codemirror_mode": {
    "name": "ipython",
    "version": 3
   },
   "file_extension": ".py",
   "mimetype": "text/x-python",
   "name": "python",
   "nbconvert_exporter": "python",
   "pygments_lexer": "ipython3",
   "version": "3.10.11"
  }
 },
 "nbformat": 4,
 "nbformat_minor": 5
}
