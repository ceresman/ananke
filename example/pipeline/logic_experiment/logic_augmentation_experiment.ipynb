{
 "cells": [
  {
   "cell_type": "code",
   "execution_count": 2,
   "id": "2a9b938e-8e56-42df-906f-26148d718c43",
   "metadata": {},
   "outputs": [],
   "source": [
    "import z3\n",
    "import sympy as sp\n",
    "import numpy as np\n",
    "import scipy as sc"
   ]
  },
  {
   "cell_type": "code",
   "execution_count": null,
   "id": "2484f555-5270-4d2d-b703-de3644abb5bc",
   "metadata": {},
   "outputs": [],
   "source": []
  },
  {
   "cell_type": "code",
   "execution_count": 1,
   "id": "cf5844f1-0831-4883-a9a7-7489a7b904e6",
   "metadata": {},
   "outputs": [
    {
     "name": "stdout",
     "output_type": "stream",
     "text": [
      "Addition Result: x**2 + 2*x + (x - 1)*(x + 1) + 1\n",
      "Multiplication Result: x**4 + 2*x**3 - 2*x - 1\n",
      "Division Result: (x + 1)/(x - 1)\n"
     ]
    }
   ],
   "source": [
    "import sympy as sp\n",
    "\n",
    "# 创建符号变量\n",
    "x, y = sp.symbols('x y')\n",
    "\n",
    "# 创建代数表达式\n",
    "expression1 = x**2 + 2*x + 1\n",
    "expression2 = (x - 1)*(x + 1)\n",
    "\n",
    "# 加法\n",
    "addition_result = expression1 + expression2\n",
    "print(\"Addition Result:\", addition_result)\n",
    "\n",
    "# 乘法\n",
    "multiplication_result = sp.expand(expression1 * expression2)\n",
    "print(\"Multiplication Result:\", multiplication_result)\n",
    "\n",
    "# 除法\n",
    "division_result = sp.simplify(expression1 / expression2)\n",
    "print(\"Division Result:\", division_result)"
   ]
  },
  {
   "cell_type": "code",
   "execution_count": 2,
   "id": "cfada315-4db2-43b6-8b07-0d186495ccae",
   "metadata": {},
   "outputs": [
    {
     "name": "stdout",
     "output_type": "stream",
     "text": [
      "Simplified Logical Expression: p & q\n"
     ]
    }
   ],
   "source": [
    "p, q = sp.symbols('p q')\n",
    "logical_expr = sp.And(p, q)  # 逻辑与\n",
    "\n",
    "# 逻辑简化\n",
    "simplified_expr = sp.simplify(logical_expr)\n",
    "print(\"Simplified Logical Expression:\", simplified_expr)"
   ]
  },
  {
   "cell_type": "code",
   "execution_count": 7,
   "id": "429e967e-71c9-46fd-9cf8-10d6aff1de53",
   "metadata": {},
   "outputs": [
    {
     "ename": "ImportError",
     "evalue": "cannot import name 'ForAll' from 'sympy' (/opt/conda/lib/python3.10/site-packages/sympy/__init__.py)",
     "output_type": "error",
     "traceback": [
      "\u001b[0;31m---------------------------------------------------------------------------\u001b[0m",
      "\u001b[0;31mImportError\u001b[0m                               Traceback (most recent call last)",
      "Cell \u001b[0;32mIn[7], line 1\u001b[0m\n\u001b[0;32m----> 1\u001b[0m \u001b[38;5;28;01mfrom\u001b[39;00m \u001b[38;5;21;01msympy\u001b[39;00m \u001b[38;5;28;01mimport\u001b[39;00m symbols, ForAll, Implies, Exists, And\n\u001b[1;32m      3\u001b[0m x, y \u001b[38;5;241m=\u001b[39m symbols(\u001b[38;5;124m'\u001b[39m\u001b[38;5;124mx y\u001b[39m\u001b[38;5;124m'\u001b[39m)\n\u001b[1;32m      5\u001b[0m \u001b[38;5;66;03m# 1st-logic expression\u001b[39;00m\n",
      "\u001b[0;31mImportError\u001b[0m: cannot import name 'ForAll' from 'sympy' (/opt/conda/lib/python3.10/site-packages/sympy/__init__.py)"
     ]
    }
   ],
   "source": [
    "from sympy import symbols, ForAll, Implies, Exists, And\n",
    "\n",
    "x, y = symbols('x y')\n",
    "\n",
    "# 1st-logic expression\n",
    "expr1 = ForAll(x, Implies(agency(x), NASA(x)) & Implies(NASA(x), Exists(y, And(space_program(y), aeronautics_research(y), space_research(y)))))\n",
    "\n",
    "# higher-logic expression\n",
    "P = symbols('P')\n",
    "expr2 = ForAll(P, ForAll(x, Implies(agency(x), P(x))) & P(NASA) & P(space_program) & P(aeronautics_research) & P(space_research))\n",
    "\n",
    "# Displaying the expressions\n",
    "print(expr1)\n",
    "print(expr2)"
   ]
  },
  {
   "cell_type": "code",
   "execution_count": 4,
   "id": "dbba33f7-20ac-4c62-9799-3d384d7d9aec",
   "metadata": {},
   "outputs": [
    {
     "name": "stdout",
     "output_type": "stream",
     "text": [
      "Simplified First-Order Logic Expression: p & ~q\n",
      "Simplified First-Order Logic Expression (AND): p & q\n",
      "Simplified First-Order Logic Expression (OR): p | q\n",
      "Simplified First-Order Logic Expression (NOT): ~p\n"
     ]
    }
   ],
   "source": [
    "import sympy as sp\n",
    "\n",
    "# 创建逻辑变量\n",
    "p, q = sp.symbols('p q', bool=True)\n",
    "\n",
    "# 创建一阶逻辑表达式\n",
    "first_order_logic_expr = sp.And(p, sp.Not(q))\n",
    "\n",
    "# 逻辑简化\n",
    "simplified_expr = sp.simplify(first_order_logic_expr)\n",
    "print(\"Simplified First-Order Logic Expression:\", simplified_expr)\n",
    "import sympy as sp\n",
    "\n",
    "# 创建逻辑变量\n",
    "p, q = sp.symbols('p q', bool=True)\n",
    "\n",
    "# 创建一阶逻辑表达式\n",
    "first_order_logic_expr1 = sp.And(p, q)  # 逻辑与\n",
    "first_order_logic_expr2 = sp.Or(p, q)   # 逻辑或\n",
    "first_order_logic_expr3 = sp.Not(p)      # 逻辑非\n",
    "\n",
    "# 执行逻辑运算\n",
    "result1 = sp.simplify_logic(first_order_logic_expr1)\n",
    "result2 = sp.simplify_logic(first_order_logic_expr2)\n",
    "result3 = sp.simplify_logic(first_order_logic_expr3)\n",
    "\n",
    "print(\"Simplified First-Order Logic Expression (AND):\", result1)\n",
    "print(\"Simplified First-Order Logic Expression (OR):\", result2)\n",
    "print(\"Simplified First-Order Logic Expression (NOT):\", result3)"
   ]
  },
  {
   "cell_type": "code",
   "execution_count": null,
   "id": "2bb2ba44-80f3-4db4-8e18-69818b5f6fbe",
   "metadata": {},
   "outputs": [],
   "source": []
  }
 ],
 "metadata": {
  "kernelspec": {
   "display_name": "Python 3 (ipykernel)",
   "language": "python",
   "name": "python3"
  },
  "language_info": {
   "codemirror_mode": {
    "name": "ipython",
    "version": 3
   },
   "file_extension": ".py",
   "mimetype": "text/x-python",
   "name": "python",
   "nbconvert_exporter": "python",
   "pygments_lexer": "ipython3",
   "version": "3.10.11"
  }
 },
 "nbformat": 4,
 "nbformat_minor": 5
}
