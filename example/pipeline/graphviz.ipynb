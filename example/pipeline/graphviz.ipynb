{
 "cells": [
  {
   "cell_type": "code",
   "execution_count": 1,
   "id": "c0c8ef67-bb57-4fe6-96ae-99f0f098944f",
   "metadata": {},
   "outputs": [
    {
     "data": {
      "text/plain": [
       "'higher_order_logic.png'"
      ]
     },
     "execution_count": 1,
     "metadata": {},
     "output_type": "execute_result"
    },
    {
     "name": "stderr",
     "output_type": "stream",
     "text": [
      "Error: no \"view\" mailcap rules found for type \"image/png\"\n",
      "/usr/bin/xdg-open: 882: www-browser: not found\n",
      "/usr/bin/xdg-open: 882: links2: not found\n",
      "/usr/bin/xdg-open: 882: elinks: not found\n",
      "/usr/bin/xdg-open: 882: links: not found\n",
      "/usr/bin/xdg-open: 882: lynx: not found\n",
      "/usr/bin/xdg-open: 882: w3m: not found\n",
      "xdg-open: no method available for opening 'first_order_logic.png'\n",
      "Error: no \"view\" mailcap rules found for type \"image/png\"\n",
      "/usr/bin/xdg-open: 882: www-browser: not found\n",
      "/usr/bin/xdg-open: 882: links2: not found\n",
      "/usr/bin/xdg-open: 882: elinks: not found\n",
      "/usr/bin/xdg-open: 882: links: not found\n",
      "/usr/bin/xdg-open: 882: lynx: not found\n",
      "/usr/bin/xdg-open: 882: w3m: not found\n",
      "xdg-open: no method available for opening 'higher_order_logic.png'\n"
     ]
    }
   ],
   "source": [
    "import graphviz as gv\n",
    "\n",
    "# 创建Digraph对象，用于表示有向图\n",
    "diagram = gv.Digraph(format='png')\n",
    "\n",
    "# 一阶逻辑表达式：P(x) -> Q(x)\n",
    "def visualize_first_order_logic():\n",
    "    # 添加节点\n",
    "    diagram.node('P(x)', 'P(x)')\n",
    "    diagram.node('Q(x)', 'Q(x)')\n",
    "    \n",
    "    # 添加有向边\n",
    "    diagram.edge('P(x)', 'Q(x)', label='->')\n",
    "\n",
    "    return diagram\n",
    "\n",
    "# 高阶逻辑表达式：∀x (P(x) -> Q(x))\n",
    "def visualize_higher_order_logic():\n",
    "    # 添加节点\n",
    "    diagram.node('Forall_x', '∀x')\n",
    "    diagram.node('P(x)', 'P(x)')\n",
    "    diagram.node('Q(x)', 'Q(x)')\n",
    "    \n",
    "    # 添加有向边\n",
    "    diagram.edge('P(x)', 'Q(x)', label='->')\n",
    "    diagram.edge('Forall_x', 'P(x)')\n",
    "\n",
    "    return diagram\n",
    "\n",
    "# 生成图形\n",
    "diagram = visualize_first_order_logic()\n",
    "diagram.render('first_order_logic', view=True)\n",
    "\n",
    "diagram = visualize_higher_order_logic()\n",
    "diagram.render('higher_order_logic', view=True)"
   ]
  },
  {
   "cell_type": "code",
   "execution_count": null,
   "id": "5637f968-5ed5-411d-8c4d-8c5a2c4530b6",
   "metadata": {},
   "outputs": [],
   "source": []
  }
 ],
 "metadata": {
  "kernelspec": {
   "display_name": "Python 3 (ipykernel)",
   "language": "python",
   "name": "python3"
  },
  "language_info": {
   "codemirror_mode": {
    "name": "ipython",
    "version": 3
   },
   "file_extension": ".py",
   "mimetype": "text/x-python",
   "name": "python",
   "nbconvert_exporter": "python",
   "pygments_lexer": "ipython3",
   "version": "3.10.11"
  }
 },
 "nbformat": 4,
 "nbformat_minor": 5
}
