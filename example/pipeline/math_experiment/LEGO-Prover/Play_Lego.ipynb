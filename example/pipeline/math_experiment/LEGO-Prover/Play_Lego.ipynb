{
 "cells": [
  {
   "cell_type": "code",
   "execution_count": null,
   "id": "da09846c-f4ce-4672-b6e1-a35ee2a3b7f5",
   "metadata": {},
   "outputs": [],
   "source": [
    "! export PATH=\"$PATH:/workspace/huangyongfeng/isabelle/bin\" "
   ]
  },
  {
   "cell_type": "code",
   "execution_count": null,
   "id": "79b4484c-1e18-4ba6-ae72-f836a670c12c",
   "metadata": {},
   "outputs": [],
   "source": []
  },
  {
   "cell_type": "code",
   "execution_count": null,
   "id": "014711b6-bb83-44e5-b8f7-24d987535f68",
   "metadata": {},
   "outputs": [],
   "source": []
  }
 ],
 "metadata": {
  "kernelspec": {
   "display_name": "",
   "name": ""
  },
  "language_info": {
   "name": ""
  }
 },
 "nbformat": 4,
 "nbformat_minor": 5
}
