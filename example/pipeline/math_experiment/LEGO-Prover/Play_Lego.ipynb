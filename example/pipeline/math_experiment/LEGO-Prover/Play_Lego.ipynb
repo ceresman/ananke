{
 "cells": [
  {
   "cell_type": "code",
   "execution_count": 5,
   "id": "da09846c-f4ce-4672-b6e1-a35ee2a3b7f5",
   "metadata": {},
   "outputs": [],
   "source": [
    "#基础逻辑理解清楚了，现在得notebook把代码来跑通来\n",
    "import argparse\n",
    "import logging\n",
    "import multiprocessing as mp\n",
    "import os\n",
    "import pytz\n",
    "import shutil\n",
    "from datetime import datetime"
   ]
  },
  {
   "cell_type": "code",
   "execution_count": 10,
   "id": "431e53f0",
   "metadata": {},
   "outputs": [],
   "source": [
    "parser = argparse.ArgumentParser(description='LEGO-Prover')\n",
    "parser.add_argument('--resume', action='store_true',\n",
    "                    help='whether to resume from the checkpoint')\n",
    "parser.add_argument('--data_split', type=str, choices=['valid', 'test'], \n",
    "                    default='valid', help='data split to use in the miniF2F dataset')\n",
    "parser.add_argument('--ckpt_dir', type=str, default='checkpoints/lego_prover_valid_2023_10_27',\n",
    "                    help='path to the checkpoint directory')\n",
    "parser.add_argument('--isabelle_path', type=str, default='/data2/wanghaiming/Isabelle2022/',\n",
    "                    help='path to the Isabelle2022 directory')\n",
    "parser.add_argument('--model_name', type=str, choices=[\"gpt-3.5-turbo\", \"gpt-4\"], \n",
    "                    default='gpt-3.5-turbo', help='OpenAI model name')\n",
    "parser.add_argument('--temperature', type=float, default=0.7,\n",
    "                    help='temperature for sampling the LLM')\n",
    "parser.add_argument('--num_prover', type=int, default=3,\n",
    "                    help='number of prover processes')\n",
    "parser.add_argument('--num_evolver', type=int, default=8,\n",
    "                    help='number of evolver processes')\n",
    "parser.add_argument('--num_attempts', type=int, default=100,\n",
    "                    help='number of proving attempts for each problem in the dataset')\n",
    "args = parser.parse_args([])\n",
    "# for arg in args:\n",
    "#     print(arg)\n"
   ]
  },
  {
   "cell_type": "code",
   "execution_count": 11,
   "id": "da4a6512",
   "metadata": {},
   "outputs": [],
   "source": [
    "resume = args.resume\n",
    "data_split = args.data_split\n",
    "ckpt_dir = args.ckpt_dir\n",
    "isabelle_path = args.isabelle_path\n",
    "model_name = args.model_name\n",
    "temperature = args.temperature\n",
    "number_of_prover_processes = args.num_prover\n",
    "number_of_evolver_processes = args.num_evolver\n",
    "number_of_prover_attempts = args.num_attempts\n",
    "\n",
    "if os.path.exists(ckpt_dir) and not resume:\n",
    "    text = input(f\"the checkpoint directory {ckpt_dir} is already exist, and\" + \\\n",
    "                 f\"you are not resuming from it, do you want to delete it? (y/n)\")\n",
    "    if \"y\" in text.lower():\n",
    "        shutil.rmtree(ckpt_dir, ignore_errors=True)\n",
    "        resume = False\n",
    "    else:\n",
    "        resume = True\n"
   ]
  },
  {
   "cell_type": "code",
   "execution_count": 14,
   "id": "1940bc96",
   "metadata": {},
   "outputs": [],
   "source": [
    "def load_json(*file_path, **kwargs):\n",
    "    file_path = f_join(file_path)\n",
    "    with open(file_path, \"r\") as fp:\n",
    "        return json.load(fp, **kwargs)"
   ]
  },
  {
   "cell_type": "code",
   "execution_count": 15,
   "id": "fef6a968",
   "metadata": {},
   "outputs": [
    {
     "name": "stdout",
     "output_type": "stream",
     "text": [
      "Sketch to finish: 24400\n"
     ]
    }
   ],
   "source": [
    "from lego_prover.utils import load_json\n",
    "# load miniF2F tasks and resume from the checkpoint\n",
    "miniF2F_tasks = mp.Queue()\n",
    "problem_names = []\n",
    "if resume:\n",
    "    if os.path.exists(f\"{ckpt_dir}/curriculum/completed_tasks.json\"):\n",
    "        completed_tasks = load_json(\n",
    "            f\"{ckpt_dir}/curriculum/completed_tasks.json\")\n",
    "    if os.path.exists(f\"{ckpt_dir}/curriculum/failed_tasks.json\"):\n",
    "        failed_tasks =load_json(f\"{ckpt_dir}/curriculum/failed_tasks.json\")\n",
    "    print(\"Current progress: \", len(completed_tasks) + len(set(failed_tasks)))\n",
    "else:\n",
    "    completed_tasks = []\n",
    "    failed_tasks = []\n",
    "for name in os.listdir(f\"data/full_data/{data_split}\"):\n",
    "    path = os.path.join(f\"data/full_data/{data_split}\", name)\n",
    "    context = load_json(path)\n",
    "    problem_names.append((path, len(context[\"informal_proof\"])))\n",
    "problem_names = sorted(problem_names, key=lambda x: x[1])\n",
    "problem_names = [pn[0] for pn in problem_names]\n",
    "problem_names = problem_names * number_of_prover_attempts     # 10 * 20 = 200 sketch\n",
    "for pn in problem_names:\n",
    "    if pn in completed_tasks:\n",
    "        continue\n",
    "    if pn in failed_tasks:\n",
    "        failed_tasks.remove(pn)\n",
    "        continue\n",
    "    miniF2F_tasks.put(pn)\n",
    "print(f\"Sketch to finish: {miniF2F_tasks.qsize()}\")\n",
    "\n"
   ]
  },
  {
   "cell_type": "code",
   "execution_count": 21,
   "id": "e115afef",
   "metadata": {},
   "outputs": [],
   "source": [
    "# setup multiprocessing logger\n",
    "start_time = datetime.now(pytz.timezone(\n",
    "    'Asia/Shanghai')).strftime(\"%Y%m%d_%H%M%S\")\n",
    "\n",
    "os.makedirs(f'logs/prover/{start_time}_logs', exist_ok=True)\n",
    "for rank in range(number_of_prover_processes):\n",
    "    logger = logging.getLogger(f'prover-{rank}')\n",
    "    handler = logging.FileHandler(\n",
    "        f\"logs/prover/{start_time}_logs/rank_{rank}.log\")\n",
    "    formatter = logging.Formatter(\n",
    "        \"%(asctime)s - %(name)s - %(levelname)s - %(message)s\"\n",
    "    )\n",
    "    handler.setFormatter(formatter)\n",
    "    logger.addHandler(handler)\n",
    "    logger.setLevel(logging.INFO)\n",
    "\n",
    "os.makedirs(f'logs/evolver/{start_time}_logs', exist_ok=True)\n",
    "for evolver_rank in range(number_of_evolver_processes):\n",
    "    evolver_rank += number_of_prover_processes\n",
    "    logger = logging.getLogger(f'evolver-{evolver_rank}')\n",
    "    handler = logging.FileHandler(\n",
    "        f\"logs/evolver/{start_time}_logs/rank_{evolver_rank}.log\")\n",
    "    formatter = logging.Formatter(\n",
    "        \"%(asctime)s - %(name)s - %(levelname)s - %(message)s\"\n",
    "    )\n",
    "    handler.setFormatter(formatter)\n",
    "    logger.addHandler(handler)\n",
    "    logger.setLevel(logging.INFO)\n"
   ]
  },
  {
   "cell_type": "code",
   "execution_count": null,
   "id": "e0b17c78",
   "metadata": {},
   "outputs": [],
   "source": [
    "\n",
    "\n"
   ]
  },
  {
   "cell_type": "markdown",
   "id": "adc1588e",
   "metadata": {},
   "source": [
    "<!--\n",
    " Copyright 2024 undefined\n",
    " \n",
    " Licensed under the Apache License, Version 2.0 (the \"License\");\n",
    " you may not use this file except in compliance with the License.\n",
    " You may obtain a copy of the License at\n",
    " \n",
    "     http://www.apache.org/licenses/LICENSE-2.0\n",
    " \n",
    " Unless required by applicable law or agreed to in writing, software\n",
    " distributed under the License is distributed on an \"AS IS\" BASIS,\n",
    " WITHOUT WARRANTIES OR CONDITIONS OF ANY KIND, either express or implied.\n",
    " See the License for the specific language governing permissions and\n",
    " limitations under the License.\n",
    "-->\n",
    "\n",
    "# step0 把三个agent的功能调试通来的"
   ]
  },
  {
   "cell_type": "code",
   "execution_count": 4,
   "id": "ffe66597",
   "metadata": {},
   "outputs": [],
   "source": [
    "from copy import copy\n",
    "import os\n",
    "import random\n",
    "import re\n",
    "import time\n",
    "\n",
    "# import lego_prover.utils as U\n",
    "from langchain.prompts import SystemMessagePromptTemplate, HumanMessagePromptTemplate\n",
    "from langchain.schema import AIMessage, HumanMessage, SystemMessage\n",
    "\n",
    "from lego_prover.prompts import load_prompt\n",
    "\n",
    "# from lego_prover.utils.langchain_utils import LLMMixture"
   ]
  },
  {
   "cell_type": "markdown",
   "id": "7e74a295",
   "metadata": {},
   "source": [
    "## 第一个agent ActionAgent\n",
    "\n"
   ]
  },
  {
   "cell_type": "code",
   "execution_count": null,
   "id": "0b3ae23e",
   "metadata": {},
   "outputs": [],
   "source": [
    "# Copyright 2024 undefined\n",
    "# \n",
    "# Licensed under the Apache License, Version 2.0 (the \"License\");\n",
    "# you may not use this file except in compliance with the License.\n",
    "# You may obtain a copy of the License at\n",
    "# \n",
    "#     http://www.apache.org/licenses/LICENSE-2.0\n",
    "# \n",
    "# Unless required by applicable law or agreed to in writing, software\n",
    "# distributed under the License is distributed on an \"AS IS\" BASIS,\n",
    "# WITHOUT WARRANTIES OR CONDITIONS OF ANY KIND, either express or implied.\n",
    "# See the License for the specific language governing permissions and\n",
    "# limitations under the License.\n",
    "\n"
   ]
  },
  {
   "cell_type": "code",
   "execution_count": null,
   "id": "79b4484c-1e18-4ba6-ae72-f836a670c12c",
   "metadata": {},
   "outputs": [],
   "source": [
    "def run_prover(rank, tasks, skill_manager_lock, curriculum_agent_lock, chroma_bridge):\n",
    "    server_port = 8051 + rank\n",
    "\n",
    "    prover = Prover(\n",
    "        rank=rank,\n",
    "        isabelle_path=isabelle_path,\n",
    "        server_port=server_port,\n",
    "        model_name=model_name,\n",
    "        skill_manager_lock=skill_manager_lock,\n",
    "        action_agent_task_max_retries=1,\n",
    "        curriculum_task_type=\"queue_curriculum\",\n",
    "        curriculum_agent_lock=curriculum_agent_lock,\n",
    "        resume=resume,\n",
    "        temperature=temperature,\n",
    "        miniF2F_tasks=tasks,\n",
    "        ckpt_dir=ckpt_dir,\n",
    "        chroma_bridge=chroma_bridge,\n",
    "    )\n",
    "    prover.learn()\n",
    "\n",
    "def run_evolver(rank, skill_manager_lock, chroma_bridge):\n",
    "    server_port = 8011 + rank\n",
    "    evolver = Evolver(\n",
    "        rank=rank,\n",
    "        isabelle_path=isabelle_path,\n",
    "        ckpt_dir=ckpt_dir,\n",
    "        server_port=server_port,\n",
    "        data_split=data_split,\n",
    "        skill_manager_lock=skill_manager_lock,\n",
    "        model_name=model_name,\n",
    "        temperature=temperature,\n",
    "        chroma_bridge=chroma_bridge\n",
    "    )\n",
    "    evolver.evolve()\n",
    "\n"
   ]
  },
  {
   "cell_type": "code",
   "execution_count": null,
   "id": "014711b6-bb83-44e5-b8f7-24d987535f68",
   "metadata": {},
   "outputs": [],
   "source": []
  }
 ],
 "metadata": {
  "kernelspec": {
   "display_name": "base",
   "language": "python",
   "name": "python3"
  },
  "language_info": {
   "codemirror_mode": {
    "name": "ipython",
    "version": 3
   },
   "file_extension": ".py",
   "mimetype": "text/x-python",
   "name": "python",
   "nbconvert_exporter": "python",
   "pygments_lexer": "ipython3",
   "version": "3.10.11"
  }
 },
 "nbformat": 4,
 "nbformat_minor": 5
}
