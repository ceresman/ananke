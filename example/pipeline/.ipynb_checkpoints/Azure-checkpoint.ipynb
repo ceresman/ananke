{
 "cells": [
  {
   "cell_type": "markdown",
   "id": "5af79dd4-1676-41ed-a074-6f28b3898f4d",
   "metadata": {},
   "source": [
    "# Azure"
   ]
  },
  {
   "cell_type": "code",
   "execution_count": 1,
   "id": "8b24970c-03fb-40af-8c64-47b750340754",
   "metadata": {},
   "outputs": [],
   "source": [
    "import os\n",
    "import requests\n",
    "import json\n",
    "import openai\n",
    "\n",
    "\n",
    "\n",
    "END=\"https://ananke.openai.azure.com/openai/deployments/Ananke/chat/completions?api-version=2023-07-01-preview\"\n",
    "KEY=\"2cf01ff68807471d9ca6bf91063fb71a\"\n",
    "\n",
    "\n",
    "os.environ[\"AZURE_OPENAI_KEY\"]=KEY\n",
    "# os.environ[\"AZURE_OPENAI_ENDPOINT\"]=END\n",
    "os.environ[\"OPENAI_API_KEY\"]=KEY\n",
    "\n",
    "\n",
    "\n",
    "#Note: The openai-python library support for Azure OpenAI is in preview.\n",
    "      #Note: This code sample requires OpenAI Python library version 0.28.1 or lower.\n",
    "# import os\n",
    "# import openai\n",
    "\n",
    "# openai.api_type = \"azure\"\n",
    "# openai.api_base = \"https://ananke.openai.azure.com/\"\n",
    "# openai.api_version = \"2023-07-01-preview\"\n",
    "# openai.api_key = os.getenv(\"OPENAI_API_KEY\")\n",
    "\n",
    "# message_text = [{\"role\":\"system\",\"content\":\"You are an AI assistant that helps people find information.\"},{\"role\":\"user\",\"content\":\"hi\"},{\"role\":\"assistant\",\"content\":\"Hello! How can I assist you today?\"}]\n",
    "\n",
    "# completion = openai.ChatCompletion.create(\n",
    "#   engine=\"Ananke\",\n",
    "#   messages = message_text,\n",
    "#   temperature=0.7,\n",
    "#   max_tokens=800,\n",
    "#   top_p=0.95,\n",
    "#   frequency_penalty=0,\n",
    "#   presence_penalty=0,\n",
    "#   stop=None\n",
    "# )\n",
    "# print(completion[\"choices\"])\n",
    "# print(completion[\"messages\"][\"content\"])"
   ]
  },
  {
   "cell_type": "code",
   "execution_count": 3,
   "id": "8e7efc98-1ed3-4686-9075-5c1b14197473",
   "metadata": {},
   "outputs": [
    {
     "name": "stdout",
     "output_type": "stream",
     "text": [
      "completion\n"
     ]
    }
   ],
   "source": [
    "import os\n",
    "import openai\n",
    "\n",
    "openai.api_type = \"azure\"\n",
    "openai.api_base = \"https://anankecanada.openai.azure.com/\"\n",
    "openai.api_version = \"2023-07-01-preview\"\n",
    "openai.api_key = os.getenv(\"OPENAI_API_KEY\")\n",
    "\n",
    "message_text = [{\"role\":\"system\",\"content\":\"You are an AI assistant that helps people find information.\"}]\n",
    "\n",
    "completion = openai.ChatCompletion.create(\n",
    "  engine=\"Ananke4-32k\",\n",
    "  messages = message_text,\n",
    "  temperature=0.7,\n",
    "  max_tokens=800,\n",
    "  top_p=0.95,\n",
    "  frequency_penalty=0,\n",
    "  presence_penalty=0,\n",
    "  stop=None\n",
    ")\n",
    "print(completion)"
   ]
  },
  {
   "cell_type": "code",
   "execution_count": null,
   "id": "90102565-f424-4767-a9b0-14f6a5494f1d",
   "metadata": {},
   "outputs": [],
   "source": []
  }
 ],
 "metadata": {
  "kernelspec": {
   "display_name": "Python 3 (ipykernel)",
   "language": "python",
   "name": "python3"
  },
  "language_info": {
   "codemirror_mode": {
    "name": "ipython",
    "version": 3
   },
   "file_extension": ".py",
   "mimetype": "text/x-python",
   "name": "python",
   "nbconvert_exporter": "python",
   "pygments_lexer": "ipython3",
   "version": "3.10.11"
  }
 },
 "nbformat": 4,
 "nbformat_minor": 5
}
