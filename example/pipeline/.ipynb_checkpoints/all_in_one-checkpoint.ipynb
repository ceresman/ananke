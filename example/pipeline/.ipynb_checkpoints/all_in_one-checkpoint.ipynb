{
 "cells": [
  {
   "cell_type": "markdown",
   "id": "e4c32da6-2647-4446-809b-be93d4dcbefe",
   "metadata": {},
   "source": [
    "# Ananke Pipeline Description\n",
    "![](structure.png)"
   ]
  },
  {
   "cell_type": "markdown",
   "id": "47378e94-4ffa-4ad7-8528-4b5ddee8036a",
   "metadata": {},
   "source": [
    "# Structure Design\n",
    "Factory Pattern"
   ]
  },
  {
   "cell_type": "markdown",
   "id": "53e5f7b1-99df-4c8f-b9f1-a953ad263c64",
   "metadata": {},
   "source": []
  },
  {
   "cell_type": "markdown",
   "id": "4b52f17b-8d21-4d7e-ae1e-9c9c29d99f75",
   "metadata": {},
   "source": [
    "## Interaction Pipeline"
   ]
  },
  {
   "cell_type": "markdown",
   "id": "2ce44a1e-eb87-472a-aa0a-22e5a88227a8",
   "metadata": {},
   "source": [
    "### 1.UserInterface (No in startup)"
   ]
  },
  {
   "cell_type": "markdown",
   "id": "92a5e756-120c-4f89-b8c4-c68063bca650",
   "metadata": {},
   "source": [
    "> 在初级的交互式界面中主要使用nodejs + bootstrap\n",
    " \n",
    "\n",
    "[x] 任务需要跑通koodo\n"
   ]
  },
  {
   "cell_type": "markdown",
   "id": "f2b3dc8f-b518-495e-b25a-b5ea0fea8f86",
   "metadata": {},
   "source": [
    "### 2.Client （Local/Web） Server"
   ]
  },
  {
   "cell_type": "markdown",
   "id": "9122c83f-c891-45b9-8881-768522292344",
   "metadata": {},
   "source": [
    "服务发送以内部http request or 直接调用"
   ]
  },
  {
   "cell_type": "markdown",
   "id": "cd988515-691a-4756-b5df-679419d08426",
   "metadata": {},
   "source": [
    "#### Client API\n",
    "\n"
   ]
  },
  {
   "cell_type": "code",
   "execution_count": null,
   "id": "b685360e-7ede-4c06-8e58-532c54e2e4c7",
   "metadata": {},
   "outputs": [],
   "source": []
  },
  {
   "cell_type": "code",
   "execution_count": null,
   "id": "c67271cb-8e17-413c-b353-cfce5541dcf3",
   "metadata": {},
   "outputs": [],
   "source": []
  },
  {
   "cell_type": "code",
   "execution_count": null,
   "id": "3149d9aa-87f1-4806-a0ed-d211923a40c0",
   "metadata": {},
   "outputs": [],
   "source": []
  },
  {
   "cell_type": "code",
   "execution_count": null,
   "id": "c0e645cf-cc8a-4c67-8f88-ff01dc17a8d9",
   "metadata": {},
   "outputs": [],
   "source": []
  },
  {
   "cell_type": "markdown",
   "id": "5e75a4f0-08a8-4182-a883-16bbd40e13bd",
   "metadata": {},
   "source": [
    "#### Server API"
   ]
  },
  {
   "cell_type": "code",
   "execution_count": null,
   "id": "a735ea9b-2aec-4c0b-9b7f-59bf5e3faa48",
   "metadata": {},
   "outputs": [],
   "source": []
  },
  {
   "cell_type": "code",
   "execution_count": null,
   "id": "f1558527-b17e-4fe6-be38-d7bc4fd547b8",
   "metadata": {},
   "outputs": [],
   "source": []
  },
  {
   "cell_type": "code",
   "execution_count": null,
   "id": "5e256728-3f78-4983-aec9-1b598e7f793e",
   "metadata": {},
   "outputs": [],
   "source": []
  },
  {
   "cell_type": "markdown",
   "id": "5adbe02a-2c6b-499d-875d-13802d05bc04",
   "metadata": {},
   "source": [
    "### 3.LLM Interface"
   ]
  },
  {
   "cell_type": "markdown",
   "id": "2eb870ce-e136-49bf-b875-91d782666876",
   "metadata": {},
   "source": [
    "\n",
    "LLM Support List：\n",
    "- OpenAI\n",
    "- Anthropic\n",
    "- Gradient\n",
    "- Hugging Face\n",
    "- EverlyAI\n",
    "- LiteLLM\n",
    "- PaLM\n",
    "- Predibase\n",
    "- Replicate\n",
    "- LangChain\n",
    "- Llama API\n",
    "- Llama CPP\n",
    "- Xorbits Inference\n",
    "- MonsterAPI\n",
    "- RunGPT\n",
    "- Portkey\n",
    "- AnyScale\n",
    "- Ollama\n",
    "- Konko"
   ]
  },
  {
   "cell_type": "markdown",
   "id": "377b6ace-d512-4acf-8f19-69be132a2d6d",
   "metadata": {},
   "source": [
    "### 4.Context Processor"
   ]
  },
  {
   "cell_type": "markdown",
   "id": "669855b0-c86b-47f4-8d6d-75a067b9e02e",
   "metadata": {},
   "source": [
    "主要分为Context构造压缩重复存储&结构化"
   ]
  },
  {
   "cell_type": "markdown",
   "id": "da654e9e-1e8a-4bf8-b402-b5537b1b4997",
   "metadata": {},
   "source": [
    "#### Prompt"
   ]
  },
  {
   "cell_type": "code",
   "execution_count": null,
   "id": "07e71f7e-0988-49bb-b590-28c7c2967ad7",
   "metadata": {},
   "outputs": [],
   "source": [
    "from ananke.prompt import Prompt\n",
    "prompt = Prompt()\n",
    "\n",
    "instructed_init_prompt = \"\"\"\n",
    "The below text is you need to process\n",
    "```markdown\n",
    "{text}\n",
    "{extra_param}\n",
    "```\n",
    "\"\"\"\n",
    "\n",
    "instructed_forward_prompt = \"\"\"\n",
    "The below data is you need process:\n",
    "```\n",
    "Nodes:\n",
    "```\n",
    "{nodes}\n",
    "```\n",
    "Relationships:\n",
    "```\n",
    "{relationships}\n",
    "```\n",
    "questions or sentences:\n",
    "```\n",
    "{user_input}\n",
    "\"\"\"\n",
    "\n",
    "prompt.set_template(instructed_init_prompt, instructed_forward_prompt)\n",
    "\n",
    "init_formatted_prompt = prompt.init(text=\"Sample text to process\", extra_param=\"Extra parameter\")\n",
    "forward_formatted_prompt = prompt(nodes=\"Node data\", relationships=\"Relationship data\", user_input=\"User input\")\n",
    "\n",
    "print(\"Initialized Prompt:\")\n",
    "print(init_formatted_prompt)\n",
    "\n",
    "print(\"\\nForward Prompt:\")\n",
    "print(forward_formatted_prompt)"
   ]
  },
  {
   "cell_type": "markdown",
   "id": "1c3955b3-80c6-444b-9bb8-0f3a9ab28f9d",
   "metadata": {},
   "source": [
    "#### Compressor"
   ]
  },
  {
   "cell_type": "code",
   "execution_count": null,
   "id": "3003ff0a-9e11-44e0-9d1b-0a3924902390",
   "metadata": {},
   "outputs": [],
   "source": []
  },
  {
   "cell_type": "code",
   "execution_count": null,
   "id": "76052454-7fcc-439c-a64d-76308df855d1",
   "metadata": {},
   "outputs": [],
   "source": []
  },
  {
   "cell_type": "markdown",
   "id": "c134dc50-7db3-496f-815c-5a3ddb5b3187",
   "metadata": {},
   "source": [
    "#### TempStorage"
   ]
  },
  {
   "cell_type": "code",
   "execution_count": null,
   "id": "23b4bb20-925c-4923-9420-5d0b0f131909",
   "metadata": {},
   "outputs": [],
   "source": []
  },
  {
   "cell_type": "markdown",
   "id": "49513e8a-9e64-465d-ab14-bb7807c67a1d",
   "metadata": {},
   "source": [
    "#### ContextStructured"
   ]
  },
  {
   "cell_type": "code",
   "execution_count": null,
   "id": "0fded18d-ad41-404b-89b2-50e27cfef1d8",
   "metadata": {},
   "outputs": [],
   "source": []
  },
  {
   "cell_type": "markdown",
   "id": "405c5af6-d729-4196-b249-8f477c03af9f",
   "metadata": {},
   "source": []
  },
  {
   "cell_type": "markdown",
   "id": "591b4c14-f8bf-4a65-8dca-23affd9e91ee",
   "metadata": {},
   "source": [
    "## Document Pipeline"
   ]
  },
  {
   "cell_type": "code",
   "execution_count": null,
   "id": "9b75c6ff-f916-4083-a07a-9477b7dc63b9",
   "metadata": {},
   "outputs": [],
   "source": []
  },
  {
   "cell_type": "markdown",
   "id": "e04fc097-dfe9-4904-abec-53676202006c",
   "metadata": {},
   "source": [
    "### 1.Unified DocumentLoader"
   ]
  },
  {
   "cell_type": "markdown",
   "id": "ed763adf-6805-448e-8102-2f739923e113",
   "metadata": {},
   "source": [
    "集成式的数据加载需要针对不同的数据类型和记录"
   ]
  },
  {
   "cell_type": "markdown",
   "id": "68bdd482-2001-426f-8dc3-aac058e9b6be",
   "metadata": {},
   "source": [
    "### 2.Specific Document Spilit & Processor"
   ]
  },
  {
   "cell_type": "code",
   "execution_count": null,
   "id": "9e571bb6-32d9-4ce6-8036-fabd88d06c9f",
   "metadata": {},
   "outputs": [],
   "source": []
  },
  {
   "cell_type": "markdown",
   "id": "e02ba16d-0b04-4070-8493-ac54ef8dc0b7",
   "metadata": {},
   "source": [
    "### 3.MetaParser"
   ]
  },
  {
   "cell_type": "code",
   "execution_count": null,
   "id": "b8ee53c8-8ded-4c1c-9c18-062012892d4c",
   "metadata": {},
   "outputs": [],
   "source": []
  },
  {
   "cell_type": "markdown",
   "id": "081fcac2-d6dc-4ebd-995d-119ae053034d",
   "metadata": {},
   "source": []
  },
  {
   "cell_type": "markdown",
   "id": "e0a5c069-d991-435c-980b-56d4ed854fec",
   "metadata": {},
   "source": [
    "## Compute System"
   ]
  },
  {
   "cell_type": "markdown",
   "id": "48ae3b22-9904-4dc2-8648-31cbcc592080",
   "metadata": {},
   "source": [
    "### StructuredChunks Define"
   ]
  },
  {
   "cell_type": "code",
   "execution_count": null,
   "id": "cad365ab-3a83-4edb-a0ef-abcd272c4e85",
   "metadata": {},
   "outputs": [],
   "source": []
  },
  {
   "cell_type": "markdown",
   "id": "83293211-3a7b-45ad-a12e-2f46de598fbe",
   "metadata": {},
   "source": [
    "### Module"
   ]
  },
  {
   "cell_type": "code",
   "execution_count": null,
   "id": "9292b995-3a66-41cb-a1e2-15200ec2828d",
   "metadata": {},
   "outputs": [],
   "source": []
  },
  {
   "cell_type": "markdown",
   "id": "e838318c-1f89-4720-9b3c-a74573ea4baf",
   "metadata": {},
   "source": [
    "### Flow"
   ]
  },
  {
   "cell_type": "code",
   "execution_count": null,
   "id": "ed8b2558-acc3-431c-9001-fe5856e4b7c1",
   "metadata": {},
   "outputs": [],
   "source": []
  },
  {
   "cell_type": "markdown",
   "id": "0596be9a-583e-4a5d-92d7-bbd9b0acdeaf",
   "metadata": {},
   "source": [
    "#### Retriever"
   ]
  },
  {
   "cell_type": "code",
   "execution_count": null,
   "id": "55fe7b40-7756-4f64-9255-3d19b12f308e",
   "metadata": {},
   "outputs": [],
   "source": []
  },
  {
   "cell_type": "markdown",
   "id": "3fead7e9-e3f1-4d56-91a7-8ac023872422",
   "metadata": {},
   "source": [
    "## Storage System"
   ]
  },
  {
   "cell_type": "markdown",
   "id": "8b638ac6-0b2d-46c2-a7e9-4beda3125cc9",
   "metadata": {},
   "source": [
    "### VectorDB"
   ]
  },
  {
   "cell_type": "code",
   "execution_count": null,
   "id": "ac59b30c-631a-445a-8aaf-23ae8ac04f16",
   "metadata": {},
   "outputs": [],
   "source": []
  },
  {
   "cell_type": "markdown",
   "id": "1eac8e46-3fb9-4470-a675-500bcbdb196e",
   "metadata": {},
   "source": [
    "#### Chroma"
   ]
  },
  {
   "cell_type": "code",
   "execution_count": null,
   "id": "9ae6caff-dc10-4bf0-9e7a-5eacd1493d6c",
   "metadata": {},
   "outputs": [],
   "source": []
  },
  {
   "cell_type": "markdown",
   "id": "197c88ac-61d8-4649-a7d4-6dbea18b1d6a",
   "metadata": {},
   "source": [
    "### Graph(Structure)DB"
   ]
  },
  {
   "cell_type": "code",
   "execution_count": null,
   "id": "09c0a019-0647-4dbd-ba6a-f95f2e2eabef",
   "metadata": {},
   "outputs": [],
   "source": []
  },
  {
   "cell_type": "markdown",
   "id": "bd4c35cf-ff6b-4773-880f-5773f95ce0f0",
   "metadata": {},
   "source": [
    "#### Neo4j"
   ]
  },
  {
   "cell_type": "code",
   "execution_count": null,
   "id": "7b22b36e-6a3a-4801-a108-302452d6980a",
   "metadata": {},
   "outputs": [],
   "source": []
  },
  {
   "cell_type": "code",
   "execution_count": null,
   "id": "bcc525c4-a50b-4eca-ab33-872daf2ab4a1",
   "metadata": {},
   "outputs": [],
   "source": []
  },
  {
   "cell_type": "markdown",
   "id": "7ff0854a-d93b-4257-a71f-16a021a5311c",
   "metadata": {},
   "source": [
    "#### Nebula"
   ]
  },
  {
   "cell_type": "code",
   "execution_count": null,
   "id": "4b406023-b28f-4c28-992a-36d9af852bf9",
   "metadata": {},
   "outputs": [],
   "source": []
  },
  {
   "cell_type": "markdown",
   "id": "14e5dd19-1f06-40c0-9673-b7d4012ba21a",
   "metadata": {},
   "source": [
    "### RelationDB"
   ]
  },
  {
   "cell_type": "code",
   "execution_count": null,
   "id": "3647cb74-aefa-48be-8210-dbfacfccf22f",
   "metadata": {},
   "outputs": [],
   "source": []
  },
  {
   "cell_type": "markdown",
   "id": "927f35f3-a066-4a60-988d-83fd037cb8cc",
   "metadata": {},
   "source": [
    "#### Sqlite3"
   ]
  },
  {
   "cell_type": "code",
   "execution_count": null,
   "id": "161e088b-244c-494f-9a2a-3e274bff4e2d",
   "metadata": {},
   "outputs": [],
   "source": []
  },
  {
   "cell_type": "markdown",
   "id": "e1bd9494-3c53-43db-b56e-4a23dcb53b52",
   "metadata": {},
   "source": [
    "#### MariaDB"
   ]
  },
  {
   "cell_type": "code",
   "execution_count": null,
   "id": "bc78de8d-bd22-4196-b51e-a018c0e3f2e7",
   "metadata": {},
   "outputs": [],
   "source": []
  },
  {
   "cell_type": "markdown",
   "id": "a4964f85-3ecf-4efa-b16a-9ff89440f35c",
   "metadata": {},
   "source": [
    "# Final Interaction Pipeline"
   ]
  },
  {
   "cell_type": "code",
   "execution_count": null,
   "id": "9b5fb8d4-baa7-485c-93ed-468ad84f58fa",
   "metadata": {},
   "outputs": [],
   "source": []
  }
 ],
 "metadata": {
  "kernelspec": {
   "display_name": "Python 3 (ipykernel)",
   "language": "python",
   "name": "python3"
  },
  "language_info": {
   "codemirror_mode": {
    "name": "ipython",
    "version": 3
   },
   "file_extension": ".py",
   "mimetype": "text/x-python",
   "name": "python",
   "nbconvert_exporter": "python",
   "pygments_lexer": "ipython3",
   "version": "3.10.11"
  }
 },
 "nbformat": 4,
 "nbformat_minor": 5
}
