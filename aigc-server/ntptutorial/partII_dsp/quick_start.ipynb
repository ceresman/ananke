{
 "cells": [
  {
   "cell_type": "code",
   "execution_count": 1,
   "id": "3d76ab10-378c-4387-b009-b81d9166e9e8",
   "metadata": {},
   "outputs": [],
   "source": [
    "import argparse\n",
    "import logging\n",
    "import multiprocessing as mp\n",
    "import os\n",
    "import pytz\n",
    "import shutil\n",
    "from datetime import datetime\n",
    "\n",
    "from lego_prover.env.chromas import ChromaBridge\n",
    "from lego_prover.evolver import Evolver\n",
    "from lego_prover.prover import Prover\n",
    "import lego_prover.utils as U\n",
    "# from openai_key import *"
   ]
  },
  {
   "cell_type": "code",
   "execution_count": 2,
   "id": "8c86a044-fc16-442b-8181-c3a791a03995",
   "metadata": {},
   "outputs": [],
   "source": [
    "parser = argparse.ArgumentParser(description='LEGO-Prover')\n",
    "parser.add_argument('--resume', action='store_true',\n",
    "                    help='whether to resume from the checkpoint')\n",
    "parser.add_argument('--data_split', type=str, choices=['valid', 'test'], \n",
    "                    default='valid', help='data split to use in the miniF2F dataset')\n",
    "parser.add_argument('--ckpt_dir', type=str, default='checkpoints/lego_prover_valid_2023_10_27',\n",
    "                    help='path to the checkpoint directory')\n",
    "parser.add_argument('--isabelle_path', type=str, default='/data2/wanghaiming/Isabelle2022/',\n",
    "                    help='path to the Isabelle2022 directory')\n",
    "parser.add_argument('--model_name', type=str, choices=[\"gpt-3.5-turbo\", \"gpt-4\"], \n",
    "                    default='gpt-3.5-turbo', help='OpenAI model name')\n",
    "parser.add_argument('--temperature', type=float, default=0.7,\n",
    "                    help='temperature for sampling the LLM')\n",
    "parser.add_argument('--num_prover', type=int, default=3,\n",
    "                    help='number of prover processes')\n",
    "parser.add_argument('--num_evolver', type=int, default=8,\n",
    "                    help='number of evolver processes')\n",
    "parser.add_argument('--num_attempts', type=int, default=100,\n",
    "                    help='number of proving attempts for each problem in the dataset')\n",
    "args = parser.parse_args([])\n",
    "# for arg in args:\n",
    "#     print(arg)\n"
   ]
  },
  {
   "cell_type": "code",
   "execution_count": 3,
   "id": "5222d08c-8a93-4be1-86f4-12fad62c7ec0",
   "metadata": {},
   "outputs": [
    {
     "name": "stdin",
     "output_type": "stream",
     "text": [
      "the checkpoint directory checkpoints/lego_prover_valid_2023_10_27 is already exist, andyou are not resuming from it, do you want to delete it? (y/n) y\n"
     ]
    }
   ],
   "source": [
    "resume = args.resume\n",
    "data_split = args.data_split\n",
    "ckpt_dir = args.ckpt_dir\n",
    "\n",
    "args.isabelle_path =  \"/workspace/huangyongfeng/ananke/example/pipeline/math_experiment/LEGO-Prover/Isabelle2022\"\n",
    "isabelle_path = args.isabelle_path\n",
    "model_name = args.model_name\n",
    "temperature = args.temperature\n",
    "\n",
    "args.num_prover = 1\n",
    "number_of_prover_processes = args.num_prover\n",
    "number_of_evolver_processes = args.num_evolver\n",
    "number_of_prover_attempts = args.num_attempts\n",
    "\n",
    "if os.path.exists(ckpt_dir) and not resume:\n",
    "    text = input(f\"the checkpoint directory {ckpt_dir} is already exist, and\" + \\\n",
    "                 f\"you are not resuming from it, do you want to delete it? (y/n)\")\n",
    "    if \"y\" in text.lower():\n",
    "        shutil.rmtree(ckpt_dir, ignore_errors=True)\n",
    "        resume = False\n",
    "    else:\n",
    "        resume = True\n"
   ]
  },
  {
   "cell_type": "code",
   "execution_count": 4,
   "id": "0dbb84a8-356a-4529-afd0-91bef78129f3",
   "metadata": {},
   "outputs": [
    {
     "name": "stdout",
     "output_type": "stream",
     "text": [
      "Sketch to finish: 24400\n"
     ]
    }
   ],
   "source": [
    "# load miniF2F tasks and resume from the checkpoint\n",
    "miniF2F_tasks = mp.Queue()\n",
    "problem_names = []\n",
    "if resume:\n",
    "    if os.path.exists(f\"{ckpt_dir}/curriculum/completed_tasks.json\"):\n",
    "        completed_tasks = U.load_json(\n",
    "            f\"{ckpt_dir}/curriculum/completed_tasks.json\")\n",
    "    if os.path.exists(f\"{ckpt_dir}/curriculum/failed_tasks.json\"):\n",
    "        failed_tasks = U.load_json(f\"{ckpt_dir}/curriculum/failed_tasks.json\")\n",
    "    print(\"Current progress: \", len(completed_tasks) + len(set(failed_tasks)))\n",
    "else:\n",
    "    completed_tasks = []\n",
    "    failed_tasks = []\n",
    "for name in os.listdir(f\"data/full_data/{data_split}\"):\n",
    "    path = os.path.join(f\"data/full_data/{data_split}\", name)\n",
    "    context = U.load_json(path)\n",
    "    problem_names.append((path, len(context[\"informal_proof\"])))\n",
    "problem_names = sorted(problem_names, key=lambda x: x[1])\n",
    "problem_names = [pn[0] for pn in problem_names]\n",
    "problem_names = problem_names * number_of_prover_attempts     # 10 * 20 = 200 sketch\n",
    "for pn in problem_names:\n",
    "    if pn in completed_tasks:\n",
    "        continue\n",
    "    if pn in failed_tasks:\n",
    "        failed_tasks.remove(pn)\n",
    "        continue\n",
    "    miniF2F_tasks.put(pn)\n",
    "print(f\"Sketch to finish: {miniF2F_tasks.qsize()}\")"
   ]
  },
  {
   "cell_type": "code",
   "execution_count": 7,
   "id": "9d1ddda6-092b-4255-9c3f-51365c7ba67b",
   "metadata": {},
   "outputs": [],
   "source": [
    "# setup multiprocessing logger\n",
    "start_time = datetime.now(pytz.timezone(\n",
    "    'Asia/Shanghai')).strftime(\"%Y%m%d_%H%M%S\")\n",
    "\n",
    "os.makedirs(f'logs/prover/{start_time}_logs', exist_ok=True)\n",
    "for rank in range(number_of_prover_processes):\n",
    "    logger = logging.getLogger(f'prover-{rank}')\n",
    "    handler = logging.FileHandler(\n",
    "        f\"logs/prover/{start_time}_logs/rank_{rank}.log\")\n",
    "    formatter = logging.Formatter(\n",
    "        \"%(asctime)s - %(name)s - %(levelname)s - %(message)s\"\n",
    "    )\n",
    "    handler.setFormatter(formatter)\n",
    "    logger.addHandler(handler)\n",
    "    logger.setLevel(logging.INFO)\n",
    "\n",
    "os.makedirs(f'logs/evolver/{start_time}_logs', exist_ok=True)\n",
    "for evolver_rank in range(number_of_evolver_processes):\n",
    "    evolver_rank += number_of_prover_processes\n",
    "    logger = logging.getLogger(f'evolver-{evolver_rank}')\n",
    "    handler = logging.FileHandler(\n",
    "        f\"logs/evolver/{start_time}_logs/rank_{evolver_rank}.log\")\n",
    "    formatter = logging.Formatter(\n",
    "        \"%(asctime)s - %(name)s - %(levelname)s - %(message)s\"\n",
    "    )\n",
    "    handler.setFormatter(formatter)\n",
    "    logger.addHandler(handler)\n",
    "    logger.setLevel(logging.INFO)"
   ]
  },
  {
   "cell_type": "code",
   "execution_count": 8,
   "id": "1e72c5e5-9f8f-45ba-a836-806f4f4f6ae4",
   "metadata": {},
   "outputs": [],
   "source": [
    "# define the function to run the prover and evolver\n",
    "def run_prover(rank, tasks, skill_manager_lock, curriculum_agent_lock, chroma_bridge):\n",
    "    server_port = 8051 + rank\n",
    "\n",
    "    prover = Prover(\n",
    "        rank=rank,\n",
    "        isabelle_path=isabelle_path,\n",
    "        server_port=server_port,\n",
    "        model_name=model_name,\n",
    "        skill_manager_lock=skill_manager_lock,\n",
    "        action_agent_task_max_retries=1,\n",
    "        curriculum_task_type=\"queue_curriculum\",\n",
    "        curriculum_agent_lock=curriculum_agent_lock,\n",
    "        resume=resume,\n",
    "        temperature=temperature,\n",
    "        miniF2F_tasks=tasks,\n",
    "        ckpt_dir=ckpt_dir,\n",
    "        chroma_bridge=chroma_bridge,\n",
    "    )\n",
    "    prover.learn()\n",
    "\n",
    "def run_evolver(rank, skill_manager_lock, chroma_bridge):\n",
    "    server_port = 8011 + rank\n",
    "    evolver = Evolver(\n",
    "        rank=rank,\n",
    "        isabelle_path=isabelle_path,\n",
    "        ckpt_dir=ckpt_dir,\n",
    "        server_port=server_port,\n",
    "        data_split=data_split,\n",
    "        skill_manager_lock=skill_manager_lock,\n",
    "        model_name=model_name,\n",
    "        temperature=temperature,\n",
    "        chroma_bridge=chroma_bridge\n",
    "    )\n",
    "    evolver.evolve()"
   ]
  },
  {
   "cell_type": "code",
   "execution_count": 9,
   "id": "da5e6a8b-75b6-471b-a1ff-a686bf337e0f",
   "metadata": {},
   "outputs": [],
   "source": [
    "isabelle_path='/root/Isabelle2022/'"
   ]
  },
  {
   "cell_type": "code",
   "execution_count": 10,
   "id": "b09015e1",
   "metadata": {},
   "outputs": [
    {
     "name": "stdout",
     "output_type": "stream",
     "text": [
      "Subprocess chroma_worker started with PID 22012.\n"
     ]
    },
    {
     "name": "stderr",
     "output_type": "stream",
     "text": [
      "/workspace/huangyongfeng/ananke/example/pipeline/math_experiment/LEGO-Prover/lego_prover/env/process_monitor.py:80: UserWarning: Subprocess chroma_worker failed to start.\n",
      "  warnings.warn(f\"Subprocess {self.name} failed to start.\")\n"
     ]
    },
    {
     "name": "stdout",
     "output_type": "stream",
     "text": [
      "8051\n",
      "Subprocess isabelle_server started with PID 22070.\n"
     ]
    },
    {
     "name": "stderr",
     "output_type": "stream",
     "text": [
      "/workspace/huangyongfeng/ananke/example/pipeline/math_experiment/LEGO-Prover/lego_prover/env/process_monitor.py:80: UserWarning: Subprocess isabelle_server failed to start.\n",
      "  warnings.warn(f\"Subprocess {self.name} failed to start.\")\n",
      "\u001b[36m[2024-03-29 09:34:23,494] [Azure] [DEBUG] - azure\u001b[0m\n"
     ]
    }
   ],
   "source": [
    "processes = []\n",
    "skill_manager_lock = mp.Lock()\n",
    "curriculum_agent_lock = mp.Lock()\n",
    "chroma_bridge = ChromaBridge(ckpt_path=ckpt_dir, resume=resume)\n",
    "rank, tasks, skill_manager_lock, curriculum_agent_lock, chroma_bridge = rank, miniF2F_tasks, skill_manager_lock, curriculum_agent_lock, chroma_bridge\n",
    "\n",
    "server_port = 8051 + rank\n",
    "print(server_port)\n",
    "prover = Prover(\n",
    "    rank=rank,\n",
    "    isabelle_path=isabelle_path,\n",
    "    server_port=server_port,\n",
    "    model_name=model_name,\n",
    "    skill_manager_lock=skill_manager_lock,\n",
    "    action_agent_task_max_retries=1,\n",
    "    curriculum_task_type=\"queue_curriculum\",\n",
    "    curriculum_agent_lock=curriculum_agent_lock,\n",
    "    resume=resume,\n",
    "    temperature=temperature,\n",
    "    miniF2F_tasks=tasks,\n",
    "    ckpt_dir=ckpt_dir,\n",
    "    chroma_bridge=chroma_bridge,\n",
    ")\n",
    "\n",
    "\n"
   ]
  },
  {
   "cell_type": "code",
   "execution_count": 9,
   "id": "c913f428-5efc-4189-9f6f-adef5c78da98",
   "metadata": {},
   "outputs": [],
   "source": [
    "!kill -9 9734 9793"
   ]
  },
  {
   "cell_type": "code",
   "execution_count": 7,
   "id": "fdc27c00-6464-42cb-b9e2-71f62bd3ba97",
   "metadata": {},
   "outputs": [
    {
     "name": "stdout",
     "output_type": "stream",
     "text": [
      "Subprocess chroma_worker started with PID 272541.\n"
     ]
    },
    {
     "name": "stderr",
     "output_type": "stream",
     "text": [
      "/workspace/huangyongfeng/ananke/example/pipeline/math_experiment/LEGO-Prover/lego_prover/env/process_monitor.py:80: UserWarning: Subprocess chroma_worker failed to start.\n",
      "  warnings.warn(f\"Subprocess {self.name} failed to start.\")\n"
     ]
    },
    {
     "name": "stdout",
     "output_type": "stream",
     "text": [
      "Subprocess isabelle_server started with PID 272656.\n"
     ]
    },
    {
     "name": "stderr",
     "output_type": "stream",
     "text": [
      "/workspace/huangyongfeng/ananke/example/pipeline/math_experiment/LEGO-Prover/lego_prover/env/process_monitor.py:80: UserWarning: Subprocess isabelle_server failed to start.\n",
      "  warnings.warn(f\"Subprocess {self.name} failed to start.\")\n",
      "\u001b[36m[2024-03-29 07:28:25,975] [Azure] [DEBUG] - azure\u001b[0m\n"
     ]
    },
    {
     "name": "stdout",
     "output_type": "stream",
     "text": [
      "Subprocess isabelle_server started with PID 272764.\n"
     ]
    },
    {
     "name": "stderr",
     "output_type": "stream",
     "text": [
      "/workspace/huangyongfeng/ananke/example/pipeline/math_experiment/LEGO-Prover/lego_prover/env/process_monitor.py:80: UserWarning: Subprocess isabelle_server failed to start.\n",
      "  warnings.warn(f\"Subprocess {self.name} failed to start.\")\n"
     ]
    },
    {
     "name": "stdout",
     "output_type": "stream",
     "text": [
      "Subprocess isabelle_server started with PID 272830.\n"
     ]
    },
    {
     "name": "stderr",
     "output_type": "stream",
     "text": [
      "/workspace/huangyongfeng/ananke/example/pipeline/math_experiment/LEGO-Prover/lego_prover/env/process_monitor.py:80: UserWarning: Subprocess isabelle_server failed to start.\n",
      "  warnings.warn(f\"Subprocess {self.name} failed to start.\")\n"
     ]
    },
    {
     "name": "stdout",
     "output_type": "stream",
     "text": [
      "Subprocess isabelle_server started with PID 272917.\n"
     ]
    },
    {
     "name": "stderr",
     "output_type": "stream",
     "text": [
      "/workspace/huangyongfeng/ananke/example/pipeline/math_experiment/LEGO-Prover/lego_prover/env/process_monitor.py:80: UserWarning: Subprocess isabelle_server failed to start.\n",
      "  warnings.warn(f\"Subprocess {self.name} failed to start.\")\n"
     ]
    },
    {
     "name": "stdout",
     "output_type": "stream",
     "text": [
      "Subprocess isabelle_server started with PID 273195.\n"
     ]
    },
    {
     "name": "stderr",
     "output_type": "stream",
     "text": [
      "/workspace/huangyongfeng/ananke/example/pipeline/math_experiment/LEGO-Prover/lego_prover/env/process_monitor.py:80: UserWarning: Subprocess isabelle_server failed to start.\n",
      "  warnings.warn(f\"Subprocess {self.name} failed to start.\")\n"
     ]
    },
    {
     "name": "stdout",
     "output_type": "stream",
     "text": [
      "Subprocess isabelle_server started with PID 273273.\n"
     ]
    },
    {
     "name": "stderr",
     "output_type": "stream",
     "text": [
      "/workspace/huangyongfeng/ananke/example/pipeline/math_experiment/LEGO-Prover/lego_prover/env/process_monitor.py:80: UserWarning: Subprocess isabelle_server failed to start.\n",
      "  warnings.warn(f\"Subprocess {self.name} failed to start.\")\n"
     ]
    },
    {
     "name": "stdout",
     "output_type": "stream",
     "text": [
      "Subprocess isabelle_server started with PID 273394.\n"
     ]
    },
    {
     "name": "stderr",
     "output_type": "stream",
     "text": [
      "/workspace/huangyongfeng/ananke/example/pipeline/math_experiment/LEGO-Prover/lego_prover/env/process_monitor.py:80: UserWarning: Subprocess isabelle_server failed to start.\n",
      "  warnings.warn(f\"Subprocess {self.name} failed to start.\")\n"
     ]
    },
    {
     "name": "stdout",
     "output_type": "stream",
     "text": [
      "Subprocess isabelle_server started with PID 273481.\n"
     ]
    },
    {
     "name": "stderr",
     "output_type": "stream",
     "text": [
      "/workspace/huangyongfeng/ananke/example/pipeline/math_experiment/LEGO-Prover/lego_prover/env/process_monitor.py:80: UserWarning: Subprocess isabelle_server failed to start.\n",
      "  warnings.warn(f\"Subprocess {self.name} failed to start.\")\n"
     ]
    },
    {
     "name": "stdout",
     "output_type": "stream",
     "text": [
      "Subprocess isabelle_server started with PID 273587.\n"
     ]
    },
    {
     "name": "stderr",
     "output_type": "stream",
     "text": [
      "/workspace/huangyongfeng/ananke/example/pipeline/math_experiment/LEGO-Prover/lego_prover/env/process_monitor.py:80: UserWarning: Subprocess isabelle_server failed to start.\n",
      "  warnings.warn(f\"Subprocess {self.name} failed to start.\")\n"
     ]
    },
    {
     "name": "stdout",
     "output_type": "stream",
     "text": [
      "Subprocess isabelle_server started with PID 273700.\n"
     ]
    },
    {
     "name": "stderr",
     "output_type": "stream",
     "text": [
      "/workspace/huangyongfeng/ananke/example/pipeline/math_experiment/LEGO-Prover/lego_prover/env/process_monitor.py:80: UserWarning: Subprocess isabelle_server failed to start.\n",
      "  warnings.warn(f\"Subprocess {self.name} failed to start.\")\n"
     ]
    },
    {
     "name": "stdout",
     "output_type": "stream",
     "text": [
      "Subprocess isabelle_server started with PID 273777.\n"
     ]
    },
    {
     "name": "stderr",
     "output_type": "stream",
     "text": [
      "/workspace/huangyongfeng/ananke/example/pipeline/math_experiment/LEGO-Prover/lego_prover/env/process_monitor.py:80: UserWarning: Subprocess isabelle_server failed to start.\n",
      "  warnings.warn(f\"Subprocess {self.name} failed to start.\")\n"
     ]
    },
    {
     "name": "stdout",
     "output_type": "stream",
     "text": [
      "Subprocess isabelle_server started with PID 273894.\n"
     ]
    },
    {
     "name": "stderr",
     "output_type": "stream",
     "text": [
      "/workspace/huangyongfeng/ananke/example/pipeline/math_experiment/LEGO-Prover/lego_prover/env/process_monitor.py:80: UserWarning: Subprocess isabelle_server failed to start.\n",
      "  warnings.warn(f\"Subprocess {self.name} failed to start.\")\n"
     ]
    },
    {
     "name": "stdout",
     "output_type": "stream",
     "text": [
      "Subprocess isabelle_server started with PID 273988.\n"
     ]
    },
    {
     "name": "stderr",
     "output_type": "stream",
     "text": [
      "/workspace/huangyongfeng/ananke/example/pipeline/math_experiment/LEGO-Prover/lego_prover/env/process_monitor.py:80: UserWarning: Subprocess isabelle_server failed to start.\n",
      "  warnings.warn(f\"Subprocess {self.name} failed to start.\")\n"
     ]
    },
    {
     "name": "stdout",
     "output_type": "stream",
     "text": [
      "Subprocess isabelle_server started with PID 274079.\n"
     ]
    },
    {
     "name": "stderr",
     "output_type": "stream",
     "text": [
      "/workspace/huangyongfeng/ananke/example/pipeline/math_experiment/LEGO-Prover/lego_prover/env/process_monitor.py:80: UserWarning: Subprocess isabelle_server failed to start.\n",
      "  warnings.warn(f\"Subprocess {self.name} failed to start.\")\n"
     ]
    },
    {
     "name": "stdout",
     "output_type": "stream",
     "text": [
      "Subprocess isabelle_server started with PID 274184.\n"
     ]
    },
    {
     "name": "stderr",
     "output_type": "stream",
     "text": [
      "/workspace/huangyongfeng/ananke/example/pipeline/math_experiment/LEGO-Prover/lego_prover/env/process_monitor.py:80: UserWarning: Subprocess isabelle_server failed to start.\n",
      "  warnings.warn(f\"Subprocess {self.name} failed to start.\")\n"
     ]
    },
    {
     "name": "stdout",
     "output_type": "stream",
     "text": [
      "Subprocess isabelle_server started with PID 274258.\n"
     ]
    },
    {
     "name": "stderr",
     "output_type": "stream",
     "text": [
      "/workspace/huangyongfeng/ananke/example/pipeline/math_experiment/LEGO-Prover/lego_prover/env/process_monitor.py:80: UserWarning: Subprocess isabelle_server failed to start.\n",
      "  warnings.warn(f\"Subprocess {self.name} failed to start.\")\n"
     ]
    },
    {
     "name": "stdout",
     "output_type": "stream",
     "text": [
      "Subprocess isabelle_server started with PID 274354.\n"
     ]
    },
    {
     "name": "stderr",
     "output_type": "stream",
     "text": [
      "/workspace/huangyongfeng/ananke/example/pipeline/math_experiment/LEGO-Prover/lego_prover/env/process_monitor.py:80: UserWarning: Subprocess isabelle_server failed to start.\n",
      "  warnings.warn(f\"Subprocess {self.name} failed to start.\")\n"
     ]
    },
    {
     "name": "stdout",
     "output_type": "stream",
     "text": [
      "Subprocess isabelle_server started with PID 274429.\n"
     ]
    },
    {
     "name": "stderr",
     "output_type": "stream",
     "text": [
      "/workspace/huangyongfeng/ananke/example/pipeline/math_experiment/LEGO-Prover/lego_prover/env/process_monitor.py:80: UserWarning: Subprocess isabelle_server failed to start.\n",
      "  warnings.warn(f\"Subprocess {self.name} failed to start.\")\n"
     ]
    },
    {
     "name": "stdout",
     "output_type": "stream",
     "text": [
      "Subprocess isabelle_server started with PID 274515.\n"
     ]
    },
    {
     "name": "stderr",
     "output_type": "stream",
     "text": [
      "/workspace/huangyongfeng/ananke/example/pipeline/math_experiment/LEGO-Prover/lego_prover/env/process_monitor.py:80: UserWarning: Subprocess isabelle_server failed to start.\n",
      "  warnings.warn(f\"Subprocess {self.name} failed to start.\")\n"
     ]
    },
    {
     "name": "stdout",
     "output_type": "stream",
     "text": [
      "Subprocess isabelle_server started with PID 274614.\n"
     ]
    },
    {
     "name": "stderr",
     "output_type": "stream",
     "text": [
      "/workspace/huangyongfeng/ananke/example/pipeline/math_experiment/LEGO-Prover/lego_prover/env/process_monitor.py:80: UserWarning: Subprocess isabelle_server failed to start.\n",
      "  warnings.warn(f\"Subprocess {self.name} failed to start.\")\n"
     ]
    },
    {
     "name": "stdout",
     "output_type": "stream",
     "text": [
      "Subprocess isabelle_server started with PID 274694.\n"
     ]
    },
    {
     "name": "stderr",
     "output_type": "stream",
     "text": [
      "/workspace/huangyongfeng/ananke/example/pipeline/math_experiment/LEGO-Prover/lego_prover/env/process_monitor.py:80: UserWarning: Subprocess isabelle_server failed to start.\n",
      "  warnings.warn(f\"Subprocess {self.name} failed to start.\")\n"
     ]
    },
    {
     "name": "stdout",
     "output_type": "stream",
     "text": [
      "Subprocess isabelle_server started with PID 274795.\n"
     ]
    },
    {
     "name": "stderr",
     "output_type": "stream",
     "text": [
      "/workspace/huangyongfeng/ananke/example/pipeline/math_experiment/LEGO-Prover/lego_prover/env/process_monitor.py:80: UserWarning: Subprocess isabelle_server failed to start.\n",
      "  warnings.warn(f\"Subprocess {self.name} failed to start.\")\n"
     ]
    },
    {
     "name": "stdout",
     "output_type": "stream",
     "text": [
      "Subprocess isabelle_server started with PID 274858.\n"
     ]
    },
    {
     "name": "stderr",
     "output_type": "stream",
     "text": [
      "/workspace/huangyongfeng/ananke/example/pipeline/math_experiment/LEGO-Prover/lego_prover/env/process_monitor.py:80: UserWarning: Subprocess isabelle_server failed to start.\n",
      "  warnings.warn(f\"Subprocess {self.name} failed to start.\")\n"
     ]
    },
    {
     "name": "stdout",
     "output_type": "stream",
     "text": [
      "Subprocess isabelle_server started with PID 274948.\n"
     ]
    },
    {
     "name": "stderr",
     "output_type": "stream",
     "text": [
      "/workspace/huangyongfeng/ananke/example/pipeline/math_experiment/LEGO-Prover/lego_prover/env/process_monitor.py:80: UserWarning: Subprocess isabelle_server failed to start.\n",
      "  warnings.warn(f\"Subprocess {self.name} failed to start.\")\n"
     ]
    },
    {
     "name": "stdout",
     "output_type": "stream",
     "text": [
      "Subprocess isabelle_server started with PID 275034.\n"
     ]
    },
    {
     "name": "stderr",
     "output_type": "stream",
     "text": [
      "/workspace/huangyongfeng/ananke/example/pipeline/math_experiment/LEGO-Prover/lego_prover/env/process_monitor.py:80: UserWarning: Subprocess isabelle_server failed to start.\n",
      "  warnings.warn(f\"Subprocess {self.name} failed to start.\")\n"
     ]
    },
    {
     "name": "stdout",
     "output_type": "stream",
     "text": [
      "Subprocess isabelle_server started with PID 275096.\n"
     ]
    },
    {
     "name": "stderr",
     "output_type": "stream",
     "text": [
      "/workspace/huangyongfeng/ananke/example/pipeline/math_experiment/LEGO-Prover/lego_prover/env/process_monitor.py:80: UserWarning: Subprocess isabelle_server failed to start.\n",
      "  warnings.warn(f\"Subprocess {self.name} failed to start.\")\n"
     ]
    },
    {
     "name": "stdout",
     "output_type": "stream",
     "text": [
      "Subprocess isabelle_server started with PID 275183.\n"
     ]
    },
    {
     "name": "stderr",
     "output_type": "stream",
     "text": [
      "/workspace/huangyongfeng/ananke/example/pipeline/math_experiment/LEGO-Prover/lego_prover/env/process_monitor.py:80: UserWarning: Subprocess isabelle_server failed to start.\n",
      "  warnings.warn(f\"Subprocess {self.name} failed to start.\")\n"
     ]
    },
    {
     "name": "stdout",
     "output_type": "stream",
     "text": [
      "Subprocess isabelle_server started with PID 275253.\n"
     ]
    },
    {
     "name": "stderr",
     "output_type": "stream",
     "text": [
      "/workspace/huangyongfeng/ananke/example/pipeline/math_experiment/LEGO-Prover/lego_prover/env/process_monitor.py:80: UserWarning: Subprocess isabelle_server failed to start.\n",
      "  warnings.warn(f\"Subprocess {self.name} failed to start.\")\n"
     ]
    },
    {
     "name": "stdout",
     "output_type": "stream",
     "text": [
      "Subprocess isabelle_server started with PID 275355.\n"
     ]
    },
    {
     "name": "stderr",
     "output_type": "stream",
     "text": [
      "/workspace/huangyongfeng/ananke/example/pipeline/math_experiment/LEGO-Prover/lego_prover/env/process_monitor.py:80: UserWarning: Subprocess isabelle_server failed to start.\n",
      "  warnings.warn(f\"Subprocess {self.name} failed to start.\")\n"
     ]
    },
    {
     "name": "stdout",
     "output_type": "stream",
     "text": [
      "Subprocess isabelle_server started with PID 275441.\n"
     ]
    },
    {
     "name": "stderr",
     "output_type": "stream",
     "text": [
      "/workspace/huangyongfeng/ananke/example/pipeline/math_experiment/LEGO-Prover/lego_prover/env/process_monitor.py:80: UserWarning: Subprocess isabelle_server failed to start.\n",
      "  warnings.warn(f\"Subprocess {self.name} failed to start.\")\n"
     ]
    },
    {
     "name": "stdout",
     "output_type": "stream",
     "text": [
      "Subprocess isabelle_server started with PID 275504.\n"
     ]
    },
    {
     "name": "stderr",
     "output_type": "stream",
     "text": [
      "/workspace/huangyongfeng/ananke/example/pipeline/math_experiment/LEGO-Prover/lego_prover/env/process_monitor.py:80: UserWarning: Subprocess isabelle_server failed to start.\n",
      "  warnings.warn(f\"Subprocess {self.name} failed to start.\")\n"
     ]
    },
    {
     "name": "stdout",
     "output_type": "stream",
     "text": [
      "Subprocess isabelle_server started with PID 275597.\n"
     ]
    },
    {
     "name": "stderr",
     "output_type": "stream",
     "text": [
      "/workspace/huangyongfeng/ananke/example/pipeline/math_experiment/LEGO-Prover/lego_prover/env/process_monitor.py:80: UserWarning: Subprocess isabelle_server failed to start.\n",
      "  warnings.warn(f\"Subprocess {self.name} failed to start.\")\n"
     ]
    },
    {
     "name": "stdout",
     "output_type": "stream",
     "text": [
      "Subprocess isabelle_server started with PID 275667.\n"
     ]
    },
    {
     "name": "stderr",
     "output_type": "stream",
     "text": [
      "/workspace/huangyongfeng/ananke/example/pipeline/math_experiment/LEGO-Prover/lego_prover/env/process_monitor.py:80: UserWarning: Subprocess isabelle_server failed to start.\n",
      "  warnings.warn(f\"Subprocess {self.name} failed to start.\")\n"
     ]
    },
    {
     "name": "stdout",
     "output_type": "stream",
     "text": [
      "Subprocess isabelle_server started with PID 275754.\n"
     ]
    },
    {
     "name": "stderr",
     "output_type": "stream",
     "text": [
      "/workspace/huangyongfeng/ananke/example/pipeline/math_experiment/LEGO-Prover/lego_prover/env/process_monitor.py:80: UserWarning: Subprocess isabelle_server failed to start.\n",
      "  warnings.warn(f\"Subprocess {self.name} failed to start.\")\n"
     ]
    },
    {
     "name": "stdout",
     "output_type": "stream",
     "text": [
      "Subprocess isabelle_server started with PID 275840.\n"
     ]
    },
    {
     "name": "stderr",
     "output_type": "stream",
     "text": [
      "/workspace/huangyongfeng/ananke/example/pipeline/math_experiment/LEGO-Prover/lego_prover/env/process_monitor.py:80: UserWarning: Subprocess isabelle_server failed to start.\n",
      "  warnings.warn(f\"Subprocess {self.name} failed to start.\")\n"
     ]
    },
    {
     "name": "stdout",
     "output_type": "stream",
     "text": [
      "Subprocess isabelle_server started with PID 275899.\n"
     ]
    },
    {
     "name": "stderr",
     "output_type": "stream",
     "text": [
      "/workspace/huangyongfeng/ananke/example/pipeline/math_experiment/LEGO-Prover/lego_prover/env/process_monitor.py:80: UserWarning: Subprocess isabelle_server failed to start.\n",
      "  warnings.warn(f\"Subprocess {self.name} failed to start.\")\n"
     ]
    },
    {
     "name": "stdout",
     "output_type": "stream",
     "text": [
      "Subprocess isabelle_server started with PID 275986.\n"
     ]
    },
    {
     "name": "stderr",
     "output_type": "stream",
     "text": [
      "/workspace/huangyongfeng/ananke/example/pipeline/math_experiment/LEGO-Prover/lego_prover/env/process_monitor.py:80: UserWarning: Subprocess isabelle_server failed to start.\n",
      "  warnings.warn(f\"Subprocess {self.name} failed to start.\")\n"
     ]
    },
    {
     "name": "stdout",
     "output_type": "stream",
     "text": [
      "Subprocess isabelle_server started with PID 276048.\n"
     ]
    },
    {
     "name": "stderr",
     "output_type": "stream",
     "text": [
      "/workspace/huangyongfeng/ananke/example/pipeline/math_experiment/LEGO-Prover/lego_prover/env/process_monitor.py:80: UserWarning: Subprocess isabelle_server failed to start.\n",
      "  warnings.warn(f\"Subprocess {self.name} failed to start.\")\n"
     ]
    },
    {
     "name": "stdout",
     "output_type": "stream",
     "text": [
      "Subprocess isabelle_server started with PID 276134.\n"
     ]
    },
    {
     "name": "stderr",
     "output_type": "stream",
     "text": [
      "/workspace/huangyongfeng/ananke/example/pipeline/math_experiment/LEGO-Prover/lego_prover/env/process_monitor.py:80: UserWarning: Subprocess isabelle_server failed to start.\n",
      "  warnings.warn(f\"Subprocess {self.name} failed to start.\")\n"
     ]
    },
    {
     "name": "stdout",
     "output_type": "stream",
     "text": [
      "Subprocess isabelle_server started with PID 276225.\n"
     ]
    },
    {
     "name": "stderr",
     "output_type": "stream",
     "text": [
      "/workspace/huangyongfeng/ananke/example/pipeline/math_experiment/LEGO-Prover/lego_prover/env/process_monitor.py:80: UserWarning: Subprocess isabelle_server failed to start.\n",
      "  warnings.warn(f\"Subprocess {self.name} failed to start.\")\n"
     ]
    },
    {
     "name": "stdout",
     "output_type": "stream",
     "text": [
      "Subprocess isabelle_server started with PID 276290.\n"
     ]
    },
    {
     "name": "stderr",
     "output_type": "stream",
     "text": [
      "/workspace/huangyongfeng/ananke/example/pipeline/math_experiment/LEGO-Prover/lego_prover/env/process_monitor.py:80: UserWarning: Subprocess isabelle_server failed to start.\n",
      "  warnings.warn(f\"Subprocess {self.name} failed to start.\")\n"
     ]
    },
    {
     "name": "stdout",
     "output_type": "stream",
     "text": [
      "Subprocess isabelle_server started with PID 276379.\n"
     ]
    },
    {
     "name": "stderr",
     "output_type": "stream",
     "text": [
      "/workspace/huangyongfeng/ananke/example/pipeline/math_experiment/LEGO-Prover/lego_prover/env/process_monitor.py:80: UserWarning: Subprocess isabelle_server failed to start.\n",
      "  warnings.warn(f\"Subprocess {self.name} failed to start.\")\n"
     ]
    },
    {
     "name": "stdout",
     "output_type": "stream",
     "text": [
      "Subprocess isabelle_server started with PID 276477.\n"
     ]
    },
    {
     "name": "stderr",
     "output_type": "stream",
     "text": [
      "/workspace/huangyongfeng/ananke/example/pipeline/math_experiment/LEGO-Prover/lego_prover/env/process_monitor.py:80: UserWarning: Subprocess isabelle_server failed to start.\n",
      "  warnings.warn(f\"Subprocess {self.name} failed to start.\")\n"
     ]
    },
    {
     "name": "stdout",
     "output_type": "stream",
     "text": [
      "Subprocess isabelle_server started with PID 276583.\n"
     ]
    },
    {
     "name": "stderr",
     "output_type": "stream",
     "text": [
      "/workspace/huangyongfeng/ananke/example/pipeline/math_experiment/LEGO-Prover/lego_prover/env/process_monitor.py:80: UserWarning: Subprocess isabelle_server failed to start.\n",
      "  warnings.warn(f\"Subprocess {self.name} failed to start.\")\n"
     ]
    },
    {
     "name": "stdout",
     "output_type": "stream",
     "text": [
      "Subprocess isabelle_server started with PID 276698.\n"
     ]
    },
    {
     "name": "stderr",
     "output_type": "stream",
     "text": [
      "/workspace/huangyongfeng/ananke/example/pipeline/math_experiment/LEGO-Prover/lego_prover/env/process_monitor.py:80: UserWarning: Subprocess isabelle_server failed to start.\n",
      "  warnings.warn(f\"Subprocess {self.name} failed to start.\")\n"
     ]
    },
    {
     "name": "stdout",
     "output_type": "stream",
     "text": [
      "Subprocess isabelle_server started with PID 276809.\n"
     ]
    },
    {
     "name": "stderr",
     "output_type": "stream",
     "text": [
      "/workspace/huangyongfeng/ananke/example/pipeline/math_experiment/LEGO-Prover/lego_prover/env/process_monitor.py:80: UserWarning: Subprocess isabelle_server failed to start.\n",
      "  warnings.warn(f\"Subprocess {self.name} failed to start.\")\n"
     ]
    },
    {
     "name": "stdout",
     "output_type": "stream",
     "text": [
      "Subprocess isabelle_server started with PID 276953.\n"
     ]
    },
    {
     "name": "stderr",
     "output_type": "stream",
     "text": [
      "/workspace/huangyongfeng/ananke/example/pipeline/math_experiment/LEGO-Prover/lego_prover/env/process_monitor.py:80: UserWarning: Subprocess isabelle_server failed to start.\n",
      "  warnings.warn(f\"Subprocess {self.name} failed to start.\")\n"
     ]
    },
    {
     "name": "stdout",
     "output_type": "stream",
     "text": [
      "Subprocess isabelle_server started with PID 277063.\n"
     ]
    },
    {
     "name": "stderr",
     "output_type": "stream",
     "text": [
      "/workspace/huangyongfeng/ananke/example/pipeline/math_experiment/LEGO-Prover/lego_prover/env/process_monitor.py:80: UserWarning: Subprocess isabelle_server failed to start.\n",
      "  warnings.warn(f\"Subprocess {self.name} failed to start.\")\n"
     ]
    },
    {
     "name": "stdout",
     "output_type": "stream",
     "text": [
      "Subprocess isabelle_server started with PID 277170.\n"
     ]
    },
    {
     "name": "stderr",
     "output_type": "stream",
     "text": [
      "/workspace/huangyongfeng/ananke/example/pipeline/math_experiment/LEGO-Prover/lego_prover/env/process_monitor.py:80: UserWarning: Subprocess isabelle_server failed to start.\n",
      "  warnings.warn(f\"Subprocess {self.name} failed to start.\")\n"
     ]
    },
    {
     "name": "stdout",
     "output_type": "stream",
     "text": [
      "Subprocess isabelle_server started with PID 277264.\n"
     ]
    },
    {
     "name": "stderr",
     "output_type": "stream",
     "text": [
      "/workspace/huangyongfeng/ananke/example/pipeline/math_experiment/LEGO-Prover/lego_prover/env/process_monitor.py:80: UserWarning: Subprocess isabelle_server failed to start.\n",
      "  warnings.warn(f\"Subprocess {self.name} failed to start.\")\n"
     ]
    },
    {
     "name": "stdout",
     "output_type": "stream",
     "text": [
      "Subprocess isabelle_server started with PID 277340.\n"
     ]
    },
    {
     "name": "stderr",
     "output_type": "stream",
     "text": [
      "/workspace/huangyongfeng/ananke/example/pipeline/math_experiment/LEGO-Prover/lego_prover/env/process_monitor.py:80: UserWarning: Subprocess isabelle_server failed to start.\n",
      "  warnings.warn(f\"Subprocess {self.name} failed to start.\")\n"
     ]
    },
    {
     "name": "stdout",
     "output_type": "stream",
     "text": [
      "Subprocess isabelle_server started with PID 277454.\n"
     ]
    },
    {
     "name": "stderr",
     "output_type": "stream",
     "text": [
      "/workspace/huangyongfeng/ananke/example/pipeline/math_experiment/LEGO-Prover/lego_prover/env/process_monitor.py:80: UserWarning: Subprocess isabelle_server failed to start.\n",
      "  warnings.warn(f\"Subprocess {self.name} failed to start.\")\n"
     ]
    },
    {
     "name": "stdout",
     "output_type": "stream",
     "text": [
      "Subprocess isabelle_server started with PID 277524.\n"
     ]
    },
    {
     "name": "stderr",
     "output_type": "stream",
     "text": [
      "/workspace/huangyongfeng/ananke/example/pipeline/math_experiment/LEGO-Prover/lego_prover/env/process_monitor.py:80: UserWarning: Subprocess isabelle_server failed to start.\n",
      "  warnings.warn(f\"Subprocess {self.name} failed to start.\")\n"
     ]
    },
    {
     "name": "stdout",
     "output_type": "stream",
     "text": [
      "Subprocess isabelle_server started with PID 277632.\n"
     ]
    },
    {
     "name": "stderr",
     "output_type": "stream",
     "text": [
      "/workspace/huangyongfeng/ananke/example/pipeline/math_experiment/LEGO-Prover/lego_prover/env/process_monitor.py:80: UserWarning: Subprocess isabelle_server failed to start.\n",
      "  warnings.warn(f\"Subprocess {self.name} failed to start.\")\n"
     ]
    },
    {
     "name": "stdout",
     "output_type": "stream",
     "text": [
      "Subprocess isabelle_server started with PID 277743.\n"
     ]
    },
    {
     "name": "stderr",
     "output_type": "stream",
     "text": [
      "/workspace/huangyongfeng/ananke/example/pipeline/math_experiment/LEGO-Prover/lego_prover/env/process_monitor.py:80: UserWarning: Subprocess isabelle_server failed to start.\n",
      "  warnings.warn(f\"Subprocess {self.name} failed to start.\")\n"
     ]
    },
    {
     "name": "stdout",
     "output_type": "stream",
     "text": [
      "Subprocess isabelle_server started with PID 277938.\n"
     ]
    },
    {
     "name": "stderr",
     "output_type": "stream",
     "text": [
      "/workspace/huangyongfeng/ananke/example/pipeline/math_experiment/LEGO-Prover/lego_prover/env/process_monitor.py:80: UserWarning: Subprocess isabelle_server failed to start.\n",
      "  warnings.warn(f\"Subprocess {self.name} failed to start.\")\n"
     ]
    },
    {
     "name": "stdout",
     "output_type": "stream",
     "text": [
      "Subprocess isabelle_server started with PID 278046.\n"
     ]
    },
    {
     "name": "stderr",
     "output_type": "stream",
     "text": [
      "/workspace/huangyongfeng/ananke/example/pipeline/math_experiment/LEGO-Prover/lego_prover/env/process_monitor.py:80: UserWarning: Subprocess isabelle_server failed to start.\n",
      "  warnings.warn(f\"Subprocess {self.name} failed to start.\")\n"
     ]
    },
    {
     "name": "stdout",
     "output_type": "stream",
     "text": [
      "Subprocess isabelle_server started with PID 278112.\n"
     ]
    },
    {
     "name": "stderr",
     "output_type": "stream",
     "text": [
      "/workspace/huangyongfeng/ananke/example/pipeline/math_experiment/LEGO-Prover/lego_prover/env/process_monitor.py:80: UserWarning: Subprocess isabelle_server failed to start.\n",
      "  warnings.warn(f\"Subprocess {self.name} failed to start.\")\n"
     ]
    },
    {
     "name": "stdout",
     "output_type": "stream",
     "text": [
      "Subprocess isabelle_server started with PID 278229.\n"
     ]
    },
    {
     "name": "stderr",
     "output_type": "stream",
     "text": [
      "/workspace/huangyongfeng/ananke/example/pipeline/math_experiment/LEGO-Prover/lego_prover/env/process_monitor.py:80: UserWarning: Subprocess isabelle_server failed to start.\n",
      "  warnings.warn(f\"Subprocess {self.name} failed to start.\")\n"
     ]
    },
    {
     "name": "stdout",
     "output_type": "stream",
     "text": [
      "Subprocess isabelle_server started with PID 278328.\n"
     ]
    },
    {
     "name": "stderr",
     "output_type": "stream",
     "text": [
      "/workspace/huangyongfeng/ananke/example/pipeline/math_experiment/LEGO-Prover/lego_prover/env/process_monitor.py:80: UserWarning: Subprocess isabelle_server failed to start.\n",
      "  warnings.warn(f\"Subprocess {self.name} failed to start.\")\n"
     ]
    },
    {
     "name": "stdout",
     "output_type": "stream",
     "text": [
      "Subprocess isabelle_server started with PID 278402.\n"
     ]
    },
    {
     "name": "stderr",
     "output_type": "stream",
     "text": [
      "/workspace/huangyongfeng/ananke/example/pipeline/math_experiment/LEGO-Prover/lego_prover/env/process_monitor.py:80: UserWarning: Subprocess isabelle_server failed to start.\n",
      "  warnings.warn(f\"Subprocess {self.name} failed to start.\")\n"
     ]
    },
    {
     "name": "stdout",
     "output_type": "stream",
     "text": [
      "Subprocess isabelle_server started with PID 278509.\n"
     ]
    },
    {
     "name": "stderr",
     "output_type": "stream",
     "text": [
      "/workspace/huangyongfeng/ananke/example/pipeline/math_experiment/LEGO-Prover/lego_prover/env/process_monitor.py:80: UserWarning: Subprocess isabelle_server failed to start.\n",
      "  warnings.warn(f\"Subprocess {self.name} failed to start.\")\n"
     ]
    },
    {
     "name": "stdout",
     "output_type": "stream",
     "text": [
      "Subprocess isabelle_server started with PID 278624.\n"
     ]
    },
    {
     "name": "stderr",
     "output_type": "stream",
     "text": [
      "/workspace/huangyongfeng/ananke/example/pipeline/math_experiment/LEGO-Prover/lego_prover/env/process_monitor.py:80: UserWarning: Subprocess isabelle_server failed to start.\n",
      "  warnings.warn(f\"Subprocess {self.name} failed to start.\")\n"
     ]
    },
    {
     "name": "stdout",
     "output_type": "stream",
     "text": [
      "Subprocess isabelle_server started with PID 278731.\n"
     ]
    },
    {
     "name": "stderr",
     "output_type": "stream",
     "text": [
      "/workspace/huangyongfeng/ananke/example/pipeline/math_experiment/LEGO-Prover/lego_prover/env/process_monitor.py:80: UserWarning: Subprocess isabelle_server failed to start.\n",
      "  warnings.warn(f\"Subprocess {self.name} failed to start.\")\n"
     ]
    },
    {
     "name": "stdout",
     "output_type": "stream",
     "text": [
      "Subprocess isabelle_server started with PID 278838.\n"
     ]
    },
    {
     "name": "stderr",
     "output_type": "stream",
     "text": [
      "/workspace/huangyongfeng/ananke/example/pipeline/math_experiment/LEGO-Prover/lego_prover/env/process_monitor.py:80: UserWarning: Subprocess isabelle_server failed to start.\n",
      "  warnings.warn(f\"Subprocess {self.name} failed to start.\")\n"
     ]
    },
    {
     "name": "stdout",
     "output_type": "stream",
     "text": [
      "Subprocess isabelle_server started with PID 278900.\n"
     ]
    },
    {
     "name": "stderr",
     "output_type": "stream",
     "text": [
      "/workspace/huangyongfeng/ananke/example/pipeline/math_experiment/LEGO-Prover/lego_prover/env/process_monitor.py:80: UserWarning: Subprocess isabelle_server failed to start.\n",
      "  warnings.warn(f\"Subprocess {self.name} failed to start.\")\n"
     ]
    },
    {
     "name": "stdout",
     "output_type": "stream",
     "text": [
      "Subprocess isabelle_server started with PID 279013.\n"
     ]
    },
    {
     "name": "stderr",
     "output_type": "stream",
     "text": [
      "/workspace/huangyongfeng/ananke/example/pipeline/math_experiment/LEGO-Prover/lego_prover/env/process_monitor.py:80: UserWarning: Subprocess isabelle_server failed to start.\n",
      "  warnings.warn(f\"Subprocess {self.name} failed to start.\")\n"
     ]
    },
    {
     "name": "stdout",
     "output_type": "stream",
     "text": [
      "Subprocess isabelle_server started with PID 279092.\n"
     ]
    },
    {
     "name": "stderr",
     "output_type": "stream",
     "text": [
      "/workspace/huangyongfeng/ananke/example/pipeline/math_experiment/LEGO-Prover/lego_prover/env/process_monitor.py:80: UserWarning: Subprocess isabelle_server failed to start.\n",
      "  warnings.warn(f\"Subprocess {self.name} failed to start.\")\n"
     ]
    },
    {
     "name": "stdout",
     "output_type": "stream",
     "text": [
      "Subprocess isabelle_server started with PID 279187.\n"
     ]
    },
    {
     "name": "stderr",
     "output_type": "stream",
     "text": [
      "/workspace/huangyongfeng/ananke/example/pipeline/math_experiment/LEGO-Prover/lego_prover/env/process_monitor.py:80: UserWarning: Subprocess isabelle_server failed to start.\n",
      "  warnings.warn(f\"Subprocess {self.name} failed to start.\")\n"
     ]
    },
    {
     "name": "stdout",
     "output_type": "stream",
     "text": [
      "Subprocess isabelle_server started with PID 279295.\n"
     ]
    },
    {
     "name": "stderr",
     "output_type": "stream",
     "text": [
      "/workspace/huangyongfeng/ananke/example/pipeline/math_experiment/LEGO-Prover/lego_prover/env/process_monitor.py:80: UserWarning: Subprocess isabelle_server failed to start.\n",
      "  warnings.warn(f\"Subprocess {self.name} failed to start.\")\n"
     ]
    },
    {
     "name": "stdout",
     "output_type": "stream",
     "text": [
      "Subprocess isabelle_server started with PID 279361.\n"
     ]
    },
    {
     "name": "stderr",
     "output_type": "stream",
     "text": [
      "/workspace/huangyongfeng/ananke/example/pipeline/math_experiment/LEGO-Prover/lego_prover/env/process_monitor.py:80: UserWarning: Subprocess isabelle_server failed to start.\n",
      "  warnings.warn(f\"Subprocess {self.name} failed to start.\")\n"
     ]
    }
   ],
   "source": [
    "processes = []\n",
    "skill_manager_lock = mp.Lock()\n",
    "curriculum_agent_lock = mp.Lock()\n",
    "chroma_bridge = ChromaBridge(ckpt_path=ckpt_dir, resume=resume)\n",
    "\n",
    "\n",
    "# creating processes\n",
    "for rank in range(number_of_prover_processes):\n",
    "    p = mp.Process(target=run_prover, args=(rank, miniF2F_tasks,\n",
    "                   skill_manager_lock, curriculum_agent_lock, chroma_bridge))\n",
    "    processes.append(p)\n",
    "    p.start()\n",
    "\n",
    "# for rank in range(number_of_evolver_processes):\n",
    "#     rank += number_of_prover_processes\n",
    "#     p = mp.Process(target=run_evolver, args=(\n",
    "#         rank, skill_manager_lock, chroma_bridge))\n",
    "#     processes.append(p)\n",
    "#     p.start()\n",
    "\n",
    "# completing process\n",
    "for p in processes:\n",
    "    p.join()"
   ]
  },
  {
   "cell_type": "code",
   "execution_count": null,
   "id": "f0abec92-9eea-43d2-b0bf-42610809679c",
   "metadata": {},
   "outputs": [],
   "source": [
    "# Copyright 2024 undefined\n",
    "# \n",
    "# Licensed under the Apache License, Version 2.0 (the \"License\");\n",
    "# you may not use this file except in compliance with the License.\n",
    "# You may obtain a copy of the License at\n",
    "# \n",
    "#     https://www.apache.org/licenses/LICENSE-2.0\n",
    "# \n",
    "# Unless required by applicable law or agreed to in writing, software\n",
    "# distributed under the License is distributed on an \"AS IS\" BASIS,\n",
    "# WITHOUT WARRANTIES OR CONDITIONS OF ANY KIND, either express or implied.\n",
    "# See the License for the specific language governing permissions and\n",
    "# limitations under the License.\n",
    "\n"
   ]
  },
  {
   "cell_type": "code",
   "execution_count": 17,
   "id": "afcc6a2f-c26d-4c5b-90dd-dab1fac3ef0f",
   "metadata": {},
   "outputs": [],
   "source": [
    "import json\n",
    "import os\n",
    "import time\n",
    "import re\n",
    "import warnings\n",
    "from typing import List\n",
    "\n",
    "import psutil\n",
    "import subprocess\n",
    "import logging\n",
    "import threading\n",
    "\n",
    "import lego_prover.utils as U\n",
    "\n",
    "\n",
    "class SP:\n",
    "    def __init__(\n",
    "        self,\n",
    "        commands: List[str],\n",
    "        name: str,\n",
    "        ready_match: str = r\".*\",\n",
    "        log_path: str = \"logs\",\n",
    "        callback_match: str = r\"^(?!x)x$\",  # regex that will never match\n",
    "        callback: callable = None,\n",
    "        finished_callback: callable = None,\n",
    "        cwd: str = os.path.expanduser(\"~\"),\n",
    "        server_port: int = -1,\n",
    "    ):\n",
    "        self.commands = commands\n",
    "        self.server_port = server_port\n",
    "        start_time = time.strftime(\"%Y%m%d_%H%M%S\")\n",
    "        self.name = name\n",
    "        if name == \"isabelle_server\":\n",
    "            os.makedirs(f'logs/{name}/{start_time}_logs', exist_ok=True)\n",
    "            self.logger = logging.getLogger(f'{name}-{server_port}')\n",
    "            handler = logging.FileHandler(f\"logs/{name}/{start_time}_logs/rank_{server_port}.log\")\n",
    "        else:\n",
    "            self.logger = logging.getLogger(name)\n",
    "            handler = logging.FileHandler(U.f_join(log_path, f\"{start_time}.log\"))\n",
    "        formatter = logging.Formatter(\n",
    "            \"%(asctime)s - %(name)s - %(levelname)s - %(message)s\"\n",
    "        )\n",
    "        handler.setFormatter(formatter)\n",
    "        self.logger.addHandler(handler)\n",
    "        self.logger.setLevel(logging.INFO)\n",
    "        self.process = None\n",
    "        self.ready_match = ready_match\n",
    "        self.ready_event = None\n",
    "        self.ready_line = None\n",
    "        self.callback_match = callback_match\n",
    "        self.callback = callback\n",
    "        self.finished_callback = finished_callback\n",
    "        self.thread = None\n",
    "        self.cwd = cwd\n",
    "\n",
    "    def _start(self):\n",
    "        self.logger.info(f\"Starting subprocess with commands: {self.commands}\")\n",
    "        import pdb \n",
    "        print(self.commands, self.cwd)\n",
    "        self.process = psutil.Popen(\n",
    "            self.commands,\n",
    "            stdout=subprocess.PIPE,\n",
    "            stderr=subprocess.STDOUT,\n",
    "            stdin=subprocess.PIPE,\n",
    "            universal_newlines=True,\n",
    "            cwd=self.cwd\n",
    "        )\n",
    "        # pdb.set_trace()\n",
    "        print(f\"Subprocess {self.name} started with PID {self.process.pid}.\")\n",
    "        for line in iter(self.process.stdout.readline, \"\"):\n",
    "            self.logger.info(line.strip())\n",
    "            if re.search(self.ready_match, line):\n",
    "                self.ready_line = line\n",
    "                self.logger.info(\"Subprocess is ready.\")\n",
    "                print(\"Subprocess is ready.\")\n",
    "                self.ready_event.set()\n",
    "                if \"chroma\" in self.name:\n",
    "                    break\n",
    "            if re.search(self.callback_match, line):\n",
    "                self.callback()\n",
    "        if not self.ready_event.is_set():\n",
    "            self.ready_event.set()\n",
    "            warnings.warn(f\"Subprocess {self.name} failed to start.\")\n",
    "        if self.finished_callback:\n",
    "            self.finished_callback()\n",
    "\n",
    "    def run(self):\n",
    "        self.ready_event = threading.Event()\n",
    "        self.ready_line = None\n",
    "        self.thread = threading.Thread(target=self._start)\n",
    "        self.thread.start()\n",
    "        self.ready_event.wait()\n",
    "\n",
    "    def stop(self):\n",
    "        self.logger.info(\"Stopping subprocess.\")\n",
    "        if self.process and self.process.is_running():\n",
    "            self.process.terminate()\n",
    "            self.process.wait()\n",
    "    \n",
    "    def terminate(self):\n",
    "        parent = psutil.Process(self.process.pid)\n",
    "        for child in parent.children(recursive=True):  # or parent.children() for recursive=False\n",
    "            child.kill()\n",
    "        parent.kill()\n",
    "\n",
    "    def run_action(self, inputs):\n",
    "        self.logger.info(f\"Input: {inputs}\")\n",
    "        self.process.stdin.write(inputs + '\\n')\n",
    "        self.process.stdin.flush()\n",
    "\n",
    "        for line in iter(self.process.stdout.readline, \"\"):\n",
    "            self.logger.info(line)\n",
    "            if line.startswith('{\"error'):\n",
    "                return json.loads(line)\n",
    "\n",
    "    @property\n",
    "    def is_running(self):\n",
    "        if self.process is None:\n",
    "            return False\n",
    "        return self.process.is_running()"
   ]
  },
  {
   "cell_type": "code",
   "execution_count": 18,
   "id": "ce6f9a4f-28b5-4a2c-b73f-1566e81f3c70",
   "metadata": {},
   "outputs": [],
   "source": [
    "server_port = 8051\n",
    "isabelle_server = SP(\n",
    "            commands=[\n",
    "                \"bash\",\n",
    "                \"run_server.sh\",\n",
    "                str(server_port),\n",
    "            ],\n",
    "            name=\"isabelle_server\",\n",
    "            ready_match=r\"Server is running. Press Ctrl-C to stop.\",\n",
    "            # log_path=U.f_join(self.log_path, \"isabelle_server\"),\n",
    "            cwd=os.path.abspath(\"/root/Portal-to-ISAbelle\"),\n",
    "            server_port=server_port,\n",
    "        )"
   ]
  },
  {
   "cell_type": "code",
   "execution_count": 19,
   "id": "41ebdf84-99b6-4649-ab99-071e7a5c9504",
   "metadata": {},
   "outputs": [
    {
     "name": "stdout",
     "output_type": "stream",
     "text": [
      "['bash', 'run_server.sh', '8051'] /root/Portal-to-ISAbelle\n",
      "Subprocess isabelle_server started with PID 23828.\n",
      "Subprocess is ready.\n"
     ]
    }
   ],
   "source": [
    "isabelle_server.run()"
   ]
  },
  {
   "cell_type": "code",
   "execution_count": 20,
   "id": "d9943f6d-93d8-4e51-87ee-931e66bbcbc0",
   "metadata": {},
   "outputs": [
    {
     "name": "stdout",
     "output_type": "stream",
     "text": [
      "/usr/bin/sh: 1: kill: No such process\n",
      "\n"
     ]
    }
   ],
   "source": [
    "!kill -9 14767"
   ]
  },
  {
   "cell_type": "code",
   "execution_count": 2,
   "id": "b7321005-9f8f-41c8-80bb-213e7df5367d",
   "metadata": {},
   "outputs": [],
   "source": [
    "class Checker(object):\n",
    "    \"\"\"A modified version of the Draft, Sketch, Prove proof-checking client.\n",
    "    (https://github.com/albertqjiang/draft_sketch_prove/blob/main/autoformalization/checker.py)\n",
    "\n",
    "    This checker supports Isabelle2022 via the new version of PISA\n",
    "    (https://albertqjiang.github.io/Portal-to-ISAbelle/).\n",
    "\n",
    "    It supports checking a miniF2F-style proof via `check`.\n",
    "\n",
    "    Finally, it replaces `sledgehammer` with a call to `normalhammer`.\n",
    "    \"\"\"\n",
    "\n",
    "    def __init__(self, working_dir, isa_path, theory_file, port=9000):\n",
    "        sys.path.append(os.environ[\"PISA_PATH\"])\n",
    "        try:\n",
    "            from pisa_client import initialise_env\n",
    "\n",
    "            self.initialise_env = initialise_env\n",
    "            print(self.initialise_env)\n",
    "        except:\n",
    "            print(\"Set $PISA_PATH to /yourpath/to/Portal-to-ISAbelle/src/main/python\")\n",
    "\n",
    "        self.working_dir = working_dir\n",
    "        self.isa_path = isa_path\n",
    "        self.theory_file = theory_file\n",
    "        self.port = port\n",
    "\n",
    "    def _initialize(self):\n",
    "        env = self.initialise_env(\n",
    "            self.port,\n",
    "            isa_path=self.isa_path,\n",
    "            theory_file_path=self.theory_file,\n",
    "            working_directory=self.working_dir,\n",
    "        )\n",
    "        return env\n",
    "\n",
    "    def _exit(self, env):\n",
    "        try:\n",
    "            env.post(\"exit\")\n",
    "        except:\n",
    "            print(\"env.post('exit') timed out\")\n",
    "            pass\n",
    "        os.system(\n",
    "            \"ps aux | grep Isabelle | awk '{print $2}' | xargs kill -9 > /dev/null 2>&1\"\n",
    "        )\n",
    "        os.system(\n",
    "            \"ps aux | grep poly | awk '{print $2}' | xargs kill -9 > /dev/null 2>&1\"\n",
    "        )\n",
    "\n",
    "    def _parse_output(self, obs):\n",
    "        \"\"\"Parse the sledgehammer output, otherwise return an empty string\"\"\"\n",
    "        if \"<hammer>\" in obs:\n",
    "            output = obs.split(\"<hammer>\")[0]\n",
    "        else:\n",
    "            output = \"\"\n",
    "        return output\n",
    "\n",
    "    def _run_step(self, step, i, tls_name, env):\n",
    "        obs, reward, done, metadata = env.step_to_top_level_state(\n",
    "            action=step, tls_name=tls_name, new_name=\"default_%d\" % i\n",
    "        )\n",
    "        error = None\n",
    "        if \"error:\" in obs or \"Step error\" in obs or \"Unknown error\" in obs:\n",
    "            error = obs\n",
    "        return obs, reward, done, metadata, error\n",
    "\n",
    "    def _run_sledgehammer(self, step, i, tls_name, env):\n",
    "        # First try heuristics\n",
    "        for heuristic in [\n",
    "            \"by auto\",\n",
    "            \"by simp\",\n",
    "            \"by blast\",\n",
    "            \"by fastforce\",\n",
    "            \"by force\",\n",
    "            \"by eval\",\n",
    "            \"by presburger\",\n",
    "            \"by sos\",\n",
    "            \"by arith\",\n",
    "            \"by linarith\",\n",
    "            \"by (auto simp: field_simps)\",\n",
    "        ]:\n",
    "            step_ = step.replace(\"normalhammer\", heuristic)\n",
    "            obs, reward, done, metadata, error = self._run_step(step_, i, tls_name, env)\n",
    "            if error is None:\n",
    "                obs = \"%s <hammer> %s\" % (heuristic, obs)\n",
    "                return obs, reward, done, metadata, error\n",
    "        # Try sledgehammer\n",
    "        out = self._run_step(step, i, tls_name, env)\n",
    "        return out\n",
    "\n",
    "    def check(self, statement_and_proof):\n",
    "        # Initialize environment\n",
    "        env = self._initialize()\n",
    "        env.initialise()\n",
    "\n",
    "        # Wrap and parse theorem\n",
    "        theory = Checker.wrap_theorem(statement_and_proof)\n",
    "        steps = Checker.get_parsed(env, theory)\n",
    "\n",
    "        result = self._check(env, steps)\n",
    "        return result\n",
    "\n",
    "    def _check(self, env, steps):\n",
    "        done = False\n",
    "        reason = \"\"\n",
    "        success = False\n",
    "        step_results = []\n",
    "        tls_name = \"default\"\n",
    "        for i, step in enumerate(steps):\n",
    "            try:\n",
    "                time0 = time.time()\n",
    "                if \"normalhammer\" in step:\n",
    "                    obs, reward, done, metadata, error = self._run_sledgehammer(\n",
    "                        step, i, tls_name, env\n",
    "                    )\n",
    "                else:\n",
    "                    obs, reward, done, metadata, error = self._run_step(\n",
    "                        step, i, tls_name, env\n",
    "                    )\n",
    "                step_time = time.time() - time0\n",
    "                step_results.append(\n",
    "                    dict(\n",
    "                        index=i,\n",
    "                        step=step,\n",
    "                        output=self._parse_output(obs),\n",
    "                        step_time=step_time,\n",
    "                    )\n",
    "                )\n",
    "                if error is not None:\n",
    "                    reason = error\n",
    "                    success = False\n",
    "                    done = False\n",
    "                    break\n",
    "            except:\n",
    "                # Timeout - end the proof attempt\n",
    "                success = False\n",
    "                done = False\n",
    "                reason = \"timeout (%d)\" % len(step_results)\n",
    "                step_results.append(dict(index=i, step=step, output=\"\"))\n",
    "                break\n",
    "\n",
    "            # Change when successful\n",
    "            tls_name = \"default_%d\" % i\n",
    "\n",
    "        if done and reward == 1.0:\n",
    "            success = True\n",
    "\n",
    "        result = {\n",
    "            \"success\": success,\n",
    "            \"reason\": reason,\n",
    "            \"num_steps\": len(steps),\n",
    "            \"last_step\": len(step_results),\n",
    "            \"step_results\": step_results,\n",
    "            \"theorem_and_proof\": self.reconstruct(step_results) if success else \"\",\n",
    "        }\n",
    "        # Exit environment\n",
    "        self._exit(env)\n",
    "        return result\n",
    "\n",
    "    @staticmethod\n",
    "    def reconstruct(step_results):\n",
    "        steps = []\n",
    "        for step_result in step_results[1:]:\n",
    "            if step_result[\"output\"] != \"\":\n",
    "                steps.append(step_result[\"output\"].strip())\n",
    "            else:\n",
    "                steps.append(step_result[\"step\"].strip())\n",
    "        theorem_and_proof = \"\\n\".join(steps)\n",
    "        return theorem_and_proof\n",
    "\n",
    "    @staticmethod\n",
    "    def wrap_theorem(theorem):\n",
    "        return (\n",
    "            'theory Interactive imports HOL.HOL Complex_Main \"HOL-Library.Code_Target_Numeral\" \"HOL-Library.Sum_of_Squares\" \"Symmetric_Polynomials.Vieta\" \"HOL-Computational_Algebra.Computational_Algebra\" \"HOL-Number_Theory.Number_Theory\" \\n begin\\n%s'\n",
    "            % theorem\n",
    "        )\n",
    "\n",
    "    @staticmethod\n",
    "    def get_parsed(env, theory, tls_name=\"default\"):\n",
    "        # HACK: the parsing doesn't work well with `normalhammer`, so we replace\n",
    "        # all hammer calls with sorry, then replace sorry to normalhammer after parsing.\n",
    "        theory = theory.replace(\"sledgehammer\", \"sorry\")\n",
    "        theory = theory.replace(\"normalhammer\", \"sorry\")\n",
    "\n",
    "        steps = env.post(f\"<parse text> ${theory}\")\n",
    "        steps = steps.split(\"<SEP>\")\n",
    "        steps = [s for s in steps if s.strip() != \"\"]\n",
    "        # remove weird '$' step and whitespace steps\n",
    "        steps = [s for s in steps if s != \"$\" and s.strip() != \"\"]\n",
    "        steps = [s.replace(\"sorry\", \"normalhammer\") for s in steps]\n",
    "        return steps\n"
   ]
  },
  {
   "cell_type": "code",
   "execution_count": 3,
   "id": "5375d2b8-12d7-4360-b4b5-98f7527e3b1c",
   "metadata": {},
   "outputs": [
    {
     "name": "stdout",
     "output_type": "stream",
     "text": [
      "<function initialise_env at 0x745883c5ae60>\n"
     ]
    }
   ],
   "source": [
    "import sys\n",
    "import os\n",
    "sys.path.append('../')\n",
    "os.environ['PISA_PATH'] = '/root/Portal-to-ISAbelle/src/main/python'\n",
    "\n",
    "checker = Checker(\n",
    "    working_dir='/root/Isabelle2022/src/HOL/Examples',\n",
    "    isa_path='/root/Isabelle2022',\n",
    "    theory_file='/root/Isabelle2022/src/HOL/Examples/Interactive.thy',\n",
    "    port=8051\n",
    ")"
   ]
  },
  {
   "cell_type": "code",
   "execution_count": 4,
   "id": "60749e51-d3cf-4362-bd61-b72792abf7b2",
   "metadata": {},
   "outputs": [
    {
     "name": "stdout",
     "output_type": "stream",
     "text": [
      "----------Path to Isabelle source----------\n",
      "/root/Isabelle2022\n",
      "----------Path to Isabelle working directory----------\n",
      "/root/Isabelle2022/src/HOL/Examples\n",
      "----------Path to Isabelle theory file----------\n",
      "/root/Isabelle2022/src/HOL/Examples/Interactive.thy\n",
      "<initialise>\n",
      "<parse text> $theory Interactive imports HOL.HOL Complex_Main \"HOL-Library.Code_Target_Numeral\" \"HOL-Library.Sum_of_Squares\" \"Symmetric_Polynomials.Vieta\" \"HOL-Computational_Algebra.Computational_Algebra\" \"HOL-Number_Theory.Number_Theory\" \n",
      " begin\n",
      "theorem gcd_lcm:\n",
      "  assumes \"gcd (n :: nat) 4 = 1\" \n",
      "      and \"lcm (n :: nat) 4 = 28\"\n",
      "  shows \"n = 7\"\n",
      "proof -\n",
      "  have c1: \"1*28 = n*4\" using assms\n",
      "    sorry\n",
      "  then have c2: \"n = 1*28/4\"\n",
      "    sorry\n",
      "  then show ?thesis\n",
      "    sorry\n",
      "qed\n",
      "exit\n",
      "\n",
      "==== Success: False\n",
      "--- Complete proof:\n",
      "\n"
     ]
    }
   ],
   "source": [
    "theorem_and_sledgehammer_proof = \"\"\"theorem gcd_lcm:\n",
    "  assumes \"gcd (n :: nat) 4 = 1\" \n",
    "      and \"lcm (n :: nat) 4 = 28\"\n",
    "  shows \"n = 7\"\n",
    "proof -\n",
    "  have c1: \"1*28 = n*4\" using assms\n",
    "    sledgehammer\n",
    "  then have c2: \"n = 1*28/4\"\n",
    "    sledgehammer\n",
    "  then show ?thesis\n",
    "    sledgehammer\n",
    "qed\"\"\"\n",
    "result = checker.check(theorem_and_sledgehammer_proof)\n",
    "\n",
    "print(\"\\n==== Success: %s\" % result['success'])\n",
    "print(\"--- Complete proof:\\n%s\" % result['theorem_and_proof'])"
   ]
  },
  {
   "cell_type": "code",
   "execution_count": null,
   "id": "6bde9034-458d-4637-98b2-079f3d527fa2",
   "metadata": {},
   "outputs": [],
   "source": []
  }
 ],
 "metadata": {
  "kernelspec": {
   "display_name": "Python 3 (ipykernel)",
   "language": "python",
   "name": "python3"
  },
  "language_info": {
   "codemirror_mode": {
    "name": "ipython",
    "version": 3
   },
   "file_extension": ".py",
   "mimetype": "text/x-python",
   "name": "python",
   "nbconvert_exporter": "python",
   "pygments_lexer": "ipython3",
   "version": "3.10.11"
  }
 },
 "nbformat": 4,
 "nbformat_minor": 5
}
