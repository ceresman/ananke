{
 "cells": [
  {
   "cell_type": "code",
   "execution_count": null,
   "id": "6f54c0f3-7975-402d-b741-28d34aedbfce",
   "metadata": {},
   "outputs": [],
   "source": []
  },
  {
   "cell_type": "code",
   "execution_count": 1,
   "id": "95b180f3-f9fd-4b14-bff9-61a4f7c58c17",
   "metadata": {},
   "outputs": [
    {
     "ename": "TypeError",
     "evalue": "descriptor '__init__' of 'super' object needs an argument",
     "output_type": "error",
     "traceback": [
      "\u001b[0;31m---------------------------------------------------------------------------\u001b[0m",
      "\u001b[0;31mTypeError\u001b[0m                                 Traceback (most recent call last)",
      "Cell \u001b[0;32mIn[1], line 2\u001b[0m\n\u001b[1;32m      1\u001b[0m \u001b[38;5;28;01mfrom\u001b[39;00m \u001b[38;5;21;01mmath_logic\u001b[39;00m \u001b[38;5;28;01mimport\u001b[39;00m Agent\n\u001b[0;32m----> 2\u001b[0m agent \u001b[38;5;241m=\u001b[39m \u001b[43mAgent\u001b[49m\u001b[43m(\u001b[49m\u001b[38;5;241;43m*\u001b[39;49m\u001b[38;5;241;43m*\u001b[39;49m\u001b[43m{\u001b[49m\u001b[43m}\u001b[49m\u001b[43m)\u001b[49m\n",
      "File \u001b[0;32m/workspace/huangyongfeng/hyf/ananke/src/ananke/data/math_logic.py:78\u001b[0m, in \u001b[0;36mAgent.__init__\u001b[0;34m(self, **kwargs)\u001b[0m\n\u001b[1;32m     77\u001b[0m \u001b[38;5;28;01mdef\u001b[39;00m \u001b[38;5;21m__init__\u001b[39m(\u001b[38;5;28mself\u001b[39m, \u001b[38;5;241m*\u001b[39m\u001b[38;5;241m*\u001b[39mkwargs):\n\u001b[0;32m---> 78\u001b[0m \t\u001b[38;5;28mself\u001b[39m\u001b[38;5;241m.\u001b[39mmath \u001b[38;5;241m=\u001b[39m \u001b[43mMath\u001b[49m\u001b[43m(\u001b[49m\u001b[38;5;241;43m*\u001b[39;49m\u001b[38;5;241;43m*\u001b[39;49m\u001b[43m{\u001b[49m\u001b[43m}\u001b[49m\u001b[43m)\u001b[49m\n\u001b[1;32m     79\u001b[0m \t\u001b[38;5;28mself\u001b[39m\u001b[38;5;241m.\u001b[39mlogic \u001b[38;5;241m=\u001b[39m Logic(\u001b[38;5;241m*\u001b[39m\u001b[38;5;241m*\u001b[39m{})\n\u001b[1;32m     80\u001b[0m \t\u001b[38;5;28mself\u001b[39m\u001b[38;5;241m.\u001b[39mconversation_cache \u001b[38;5;241m=\u001b[39m \u001b[38;5;28;01mNone\u001b[39;00m\n",
      "File \u001b[0;32m/workspace/huangyongfeng/hyf/ananke/src/ananke/data/math_logic.py:22\u001b[0m, in \u001b[0;36mMath.__init__\u001b[0;34m(self, **kwargs)\u001b[0m\n\u001b[1;32m     21\u001b[0m \u001b[38;5;28;01mdef\u001b[39;00m \u001b[38;5;21m__init__\u001b[39m(\u001b[38;5;28mself\u001b[39m, \u001b[38;5;241m*\u001b[39m\u001b[38;5;241m*\u001b[39mkwargs):\n\u001b[0;32m---> 22\u001b[0m     \u001b[38;5;28;43msuper\u001b[39;49m\u001b[38;5;241;43m.\u001b[39;49m\u001b[38;5;21;43m__init__\u001b[39;49m\u001b[43m(\u001b[49m\u001b[43m)\u001b[49m;\n\u001b[1;32m     23\u001b[0m     \u001b[38;5;28;01mpass\u001b[39;00m\n",
      "\u001b[0;31mTypeError\u001b[0m: descriptor '__init__' of 'super' object needs an argument"
     ]
    }
   ],
   "source": [
    "from math_logic import Agent\n",
    "agent = Agent(**{})"
   ]
  },
  {
   "cell_type": "code",
   "execution_count": 1,
   "id": "409dabd6-36c0-4c34-a8e7-bb09b1161455",
   "metadata": {},
   "outputs": [],
   "source": [
    "from ananke.base import BaseObject\n",
    "import pytest\n",
    "from ananke.llm.thudm import ZhiPu\n",
    "from ananke.llm.azure import Azure\n",
    "from ananke.llm.ernie import Ernie\n",
    "__author__ = \"OOXXXXOO\"\n",
    "__copyright__ = \"OOXXXXOO\"\n",
    "__license__ = \"MIT\"\n",
    "\n",
    "\n",
    "import re\n",
    "import nltk\n",
    "from nltk.sem import logic\n",
    "from nltk.sem import Expression\n",
    "\n",
    "logic._counter._value = 0\n",
    "read_expr = Expression.fromstring\n",
    "\n"
   ]
  },
  {
   "cell_type": "markdown",
   "id": "58c82f44-423f-4489-be86-019ff27b87ff",
   "metadata": {},
   "source": [
    "## Math Solver"
   ]
  },
  {
   "cell_type": "code",
   "execution_count": 2,
   "id": "a63f0c08-c73c-4a3e-9d9d-047b0b0d85f3",
   "metadata": {},
   "outputs": [
    {
     "name": "stdout",
     "output_type": "stream",
     "text": [
      "\\frac{211}{243}}\n",
      "63\\pi\n",
      "\\sqrt{2}\n",
      "0\n",
      "75\n",
      "8\n",
      "6z^5+15z^4-22z^3-8z^2+17z-6}.\n",
      "-1\n"
     ]
    }
   ],
   "source": [
    "import guidance\n",
    "complex_prompts = '''\n",
    "{{#system}}\n",
    "YOU ARE one of the GREATEST mathematicians, logicians, programmers, and AI scientists. You are intelligent and rational. You are prudent and cautious. Your mastery over Arithmetic, Combinatorics, Number Theory, Probability Theory, Algebra, Analysis, and Geometry is unparalleled. You THINK NATURAL, BROAD AND DEEP. Let's think step by step.\n",
    "YOU will be given a mathematical question Q, and you need to generate intermediate thoughts to approach the answer of the given question Q.\n",
    "Prioritize generating foundational hints that are useful for solving the problem. Prioritize generating foundational questions that are useful for solving the problem. We will solve these simpler components later, and then leverage these intermediate results to deduce the final solution.\n",
    "{{/system}}\n",
    "{{~#each examples}}\n",
    "{{#user}}\n",
    "Question:\n",
    "{{this.question}}\n",
    "A:\n",
    "{{/user}}\n",
    "{{#assistant}}{{this.solution}}{{/assistant}}\n",
    "{{#user}}\n",
    "Final Answer:\n",
    "{{/user}}\n",
    "{{#assistant}}{{this.final_answer}}{{/assistant}}\n",
    "{{~/each}}\n",
    "\n",
    "{{#user}}Question: {{question}}{{/user}}\n",
    "{{#assistant}}{{gen \"final_solution\" temperature=sol_temperature max_tokens=800}}{{/assistant}}\n",
    "{{#user}}\n",
    "Final Answer:\n",
    "{{/user}}\n",
    "{{#assistant}}{{gen \"final_answer\" temperature=ans_temperature max_tokens=50}}{{/assistant}}\n",
    "'''\n",
    "complex_examples = []\n",
    "with open('complex-cot-math.txt', 'r', encoding='utf-8') as f:\n",
    "    t = f.read().split(\"\\n\\n\")\n",
    "    for i in t:\n",
    "        question = i.split(\"\\nA:\")[0].split('Question: ')[-1]\n",
    "        # print(question)\n",
    "        solution = \"\\nA:\".join(i.split(\"\\nA: \")[1:]).split(\"\\nThe answer is \")[0]\n",
    "        # print(answer)\n",
    "        final_answer = i.split(\"\\nThe answer is \")[-1]\n",
    "        print(final_answer)\n",
    "        complex_examples.append({'question': question, 'solution': solution, 'final_answer': final_answer})\n",
    "\n",
    "complex_examples = complex_examples[:4]"
   ]
  },
  {
   "cell_type": "code",
   "execution_count": null,
   "id": "c544bfc0-84c0-4cb9-990c-0c6ad1f45ce7",
   "metadata": {},
   "outputs": [],
   "source": [
    "import os\n",
    "\n",
    "from azure.identity import DefaultAzureCredential, get_bearer_token_provider\n",
    "\n",
    "# This is the name of the model deployed, such as 'gpt-4' or 'gpt-3.5-turbo\n",
    "model = os.getenv(\"AZUREAI_CHAT_MODEL\", \"Please set the model\")\n",
    "\n",
    "# This is the deployment URL, as provided in the Azure AI playground ('view code'):\n",
    "azure_endpoint = os.getenv(\"AZUREAI_CHAT_ENDPOINT\", \"Please set the endpoint\")\n",
    "\n",
    "# The environment variable should be set to the API key from the Azure AI playground:\n",
    "api_key=os.getenv(\"AZUREAI_CHAT_KEY\", \"Please set API key\")\n",
    "\n",
    "# Alternatively, we can use Entra authentication\n",
    "token_provider = get_bearer_token_provider(\n",
    "     DefaultAzureCredential(),\n",
    "     \"https://cognitiveservices.azure.com/.default\"\n",
    ")\n",
    "\n",
    "\n",
    "\n"
   ]
  },
  {
   "cell_type": "code",
   "execution_count": 3,
   "id": "6cb7e608-e9bd-4509-be20-bbf3b9ce39d8",
   "metadata": {},
   "outputs": [],
   "source": [
    "# complex_examples\n",
    "program = guidance(complex_prompts, examples=complex_examples)"
   ]
  },
  {
   "cell_type": "code",
   "execution_count": 2,
   "id": "299d14be-ea3d-4a83-9334-12a71eb27aaa",
   "metadata": {},
   "outputs": [],
   "source": [
    "# program\n",
    "OPENAI:\n",
    "  Ananke4-1106-US-WEST:\n",
    "    ENDPOINT : \"https://anankeus.openai.azure.com/\"\n",
    "    KEY : \"61bc1aab37364618ae0df70bf5f340dd\"\n",
    "    API_VERSION : \"2024-02-15-preview\"\n",
    "    API_TYPE : \"azure\"\n",
    "    MODEL : \"gpt4turbo\"\n",
    "    ENGINE : \"Ananke4-1106-US-WEST\"\n",
    "  Ananke3-1106-US-WEST:\n",
    "    ENDPOINT : \"https://anankeus.openai.azure.com/\"\n",
    "    KEY : \"61bc1aab37364618ae0df70bf5f340dd\"\n",
    "    API_VERSION : \"2024-02-15-preview\"\n",
    "    API_TYPE : \"azure\"\n",
    "    MODEL : \"gpt35turbo\"\n",
    "    ENGINE : \"Ananke3-1106-US-WEST\"\n",
    "  AnankeEmbedding-US-WEST:\n",
    "    ENDPOINT : \"https://anankeus.openai.azure.com/\"\n",
    "    KEY : \"61bc1aab37364618ae0df70bf5f340dd\"\n",
    "    API_VERSION : \"2024-02-15-preview\"\n",
    "    API_TYPE : \"azure\"\n",
    "    MODEL : \"textembeddingada002\"\n",
    "    ENGINE : \"AnankeEmbedding-US-WEST\"\n",
    "  AnankeVision-US:\n",
    "    ENDPOINT : \"https://anankeus.openai.azure.com/\"\n",
    "    KEY : \"61bc1aab37364618ae0df70bf5f340dd\"\n",
    "    API_VERSION : \"2024-02-15-preview\"\n",
    "    API_TYPE : \"azure\"\n",
    "    MODEL : \"gpt4visionpreview\"\n",
    "    ENGINE : \"AnankeVision-US\""
   ]
  },
  {
   "cell_type": "code",
   "execution_count": 5,
   "id": "93b22f67-f8d7-4ca8-b259-ba45c633d7b9",
   "metadata": {},
   "outputs": [
    {
     "ename": "SyntaxError",
     "evalue": "invalid syntax (3246783787.py, line 1)",
     "output_type": "error",
     "traceback": [
      "\u001b[0;36m  Cell \u001b[0;32mIn[5], line 1\u001b[0;36m\u001b[0m\n\u001b[0;31m    logic_prompt =\u001b[0m\n\u001b[0m                   ^\u001b[0m\n\u001b[0;31mSyntaxError\u001b[0m\u001b[0;31m:\u001b[0m invalid syntax\n"
     ]
    }
   ],
   "source": [
    "logic_prompt = \n",
    "'''\n",
    "Now you are First-order and higher-order logic analysis assistant：\n",
    "The Definition of First-order & Higher-order\n",
    "First-order logic representation:\n",
    "Individuals: Represented by lowercase letters (e.g., x, y, z, etc.).\n",
    "Predicates: Represented by uppercase letters (e.g., P, Q, R, etc.).\n",
    "Quantifiers: Universal quantifier (∀) represents \"for all,\" and existential quantifier (∃) represents \"there exists.\"\n",
    "\n",
    "Higher-order logic representation:\n",
    "Predicates and relations: Represented by uppercase letters (e.g., P, Q, R, etc.).\n",
    "Quantifiers: Universal quantifier (∀) represents \"for all,\" and existential quantifier (∃) represents \"there exists.\"\n",
    "\n",
    "You need analysis given the text to output First-Order logic and higher-order expression formula.\n",
    "\n",
    "Here is example:\n",
    "Input_text:\n",
    "```text\n",
    "everyone loves music.\n",
    "```\n",
    "Output:\n",
    "1st-logic:\n",
    "```\n",
    "∀x (person(x) → love_music(x))\n",
    "```\n",
    "higher-logic:\n",
    "```\n",
    "∀P (∀x (person(x) → P(x)))\n",
    "P:love_music\n",
    "```\n",
    "If you understand tell me you are ready. Remember reply must as example format & style.\n",
    "'''"
   ]
  },
  {
   "cell_type": "markdown",
   "id": "e0a01377-212c-4efc-b1bb-e67c665555de",
   "metadata": {},
   "source": [
    "## logic parser"
   ]
  },
  {
   "cell_type": "code",
   "execution_count": null,
   "id": "480a9484-103d-40ea-8de9-082096e30967",
   "metadata": {},
   "outputs": [],
   "source": [
    "input_text = '''\n",
    "The National Aeronautics and Space Administration (NASA /ˈnæsə/) is an independent agency of the U.S. federal government responsible for the civil space program, aeronautics research, and space research. Established in 1958, NASA succeeded the National Advisory Committee for Aeronautics (NACA) to give the U.S. space development effort a distinctly civilian orientation, emphasizing peaceful applications in space science.([4])([5])([6]) NASA has since led most American space exploration, including Project Mercury, Project Gemini, the 1968–1972 Apollo Moon landing missions, the Skylab space station, and the Space Shuttle. NASA currently supports the International Space Station and oversees the development of the Orion spacecraft and the Space Launch System for the crewed lunar Artemis program, the Commercial Crew spacecraft, and the planned Lunar Gateway space station. NASA's science is focused on: better understanding Earth through the Earth Observing System;([7]) advancing heliophysics through the efforts of the Science Mission Directorate's Heliophysics Research Program;([8]) exploring bodies throughout the Solar System with advanced robotic spacecraft such as New Horizons and planetary rovers such as Perseverance;([9]) and researching astrophysics topics, such as the Big Bang, through the James Webb Space Telescope, and the Great Observatories and associated programs.([10]) NASA\\'s Launch Services Program provides oversight of launch operations and countdown management for its uncrewed launches.\n",
    "'''\n",
    "input_context = \n",
    "'''\n",
    "Now you are First-order and higher-order logic analysis assistant：\n",
    "The Definition of First-order & Higher-order\n",
    "First-order logic representation:\n",
    "Individuals: Represented by lowercase letters (e.g., x, y, z, etc.).\n",
    "Predicates: Represented by uppercase letters (e.g., P, Q, R, etc.).\n",
    "Quantifiers: Universal quantifier (∀) represents \"for all,\" and existential quantifier (∃) represents \"there exists.\"\n",
    "\n",
    "Higher-order logic representation:\n",
    "Predicates and relations: Represented by uppercase letters (e.g., P, Q, R, etc.).\n",
    "Quantifiers: Universal quantifier (∀) represents \"for all,\" and existential quantifier (∃) represents \"there exists.\"\n",
    "\n",
    "You need analysis given the text to output First-Order logic and higher-order expression formula.\n",
    "\n",
    "Here is example:\n",
    "Input_text:\n",
    "```text\n",
    "everyone loves music.\n",
    "```\n",
    "Output:\n",
    "1st-logic:\n",
    "```\n",
    "∀x (person(x) → love_music(x))\n",
    "```\n",
    "higher-logic:\n",
    "```\n",
    "∀P (∀x (person(x) → P(x)))\n",
    "P:love_music\n",
    "```\n",
    "Now I will provide you with the input text {} . Remember reply must as example format & style.\n",
    "'''.format(input_text)"
   ]
  },
  {
   "cell_type": "code",
   "execution_count": 3,
   "id": "dd73a6c6-2133-4389-bc28-da2fecd5fc3d",
   "metadata": {},
   "outputs": [
    {
     "name": "stderr",
     "output_type": "stream",
     "text": [
      "\u001b[36m[2024-03-06 11:54:21,824] [Azure] [DEBUG] - azure\u001b[0m\n"
     ]
    }
   ],
   "source": [
    "openai_model=Azure(chat_model_name=\"Ananke3-1106-US-WEST\")"
   ]
  },
  {
   "cell_type": "code",
   "execution_count": 11,
   "id": "b9518bff-3a40-4772-8be5-f4c7291f626d",
   "metadata": {},
   "outputs": [],
   "source": [
    "output = openai_model.chat(input_context)"
   ]
  },
  {
   "cell_type": "code",
   "execution_count": 26,
   "id": "7b65486c-bc91-48aa-80e5-5e2123b7b78f",
   "metadata": {},
   "outputs": [
    {
     "name": "stdout",
     "output_type": "stream",
     "text": [
      "1st-logic:\n",
      "```\n",
      "∀x (space_researcher(x) → works_for(x, NASA))\n",
      "```\n",
      "higher-logic:\n",
      "```\n",
      "∀P (∀x (space_researcher(x) → P(x)))\n",
      "P: works_for_NASA\n",
      "```\n"
     ]
    }
   ],
   "source": [
    "print(output)"
   ]
  },
  {
   "cell_type": "code",
   "execution_count": 24,
   "id": "adcb9343-681d-40ce-a479-f8670070eb65",
   "metadata": {},
   "outputs": [
    {
     "data": {
      "text/plain": [
       "['1st-logic:\\n',\n",
       " '\\n∀x (space_researcher(x) → works_for(x, NASA))\\n',\n",
       " '\\nhigher-logic:\\n',\n",
       " '\\n∀P (∀x (space_researcher(x) → P(x)))\\nP: works_for_NASA\\n',\n",
       " '']"
      ]
     },
     "execution_count": 24,
     "metadata": {},
     "output_type": "execute_result"
    }
   ],
   "source": [
    "output_list = output.split('```')\n",
    "output_list"
   ]
  },
  {
   "cell_type": "code",
   "execution_count": 21,
   "id": "a43a697b-e7c3-437f-b14e-e04efd948c9b",
   "metadata": {},
   "outputs": [],
   "source": [
    "dict_list = {output_list[0].strip('\\n'):output_list[1].strip('\\n'), \n",
    "             output_list[2].strip('\\n'):output_list[3].strip('\\n')}"
   ]
  },
  {
   "cell_type": "code",
   "execution_count": 23,
   "id": "4f7f2c88-cb50-4b24-b0d3-241b2abae086",
   "metadata": {},
   "outputs": [
    {
     "data": {
      "text/plain": [
       "{'1st-logic:': '∀x (space_researcher(x) → works_for(x, NASA))',\n",
       " 'higher-logic:': '∀P (∀x (space_researcher(x) → P(x)))\\nP: works_for_NASA'}"
      ]
     },
     "execution_count": 23,
     "metadata": {},
     "output_type": "execute_result"
    }
   ],
   "source": [
    "dict_list"
   ]
  },
  {
   "cell_type": "code",
   "execution_count": 27,
   "id": "2130f486-99db-4d2f-9f69-50f06c305916",
   "metadata": {},
   "outputs": [
    {
     "data": {
      "text/plain": [
       "'∀P (∀x (space_researcher(x) → P(x)))\\nP: works_for_NASA'"
      ]
     },
     "execution_count": 27,
     "metadata": {},
     "output_type": "execute_result"
    }
   ],
   "source": [
    "output_list[3].strip('\\n')"
   ]
  },
  {
   "cell_type": "code",
   "execution_count": null,
   "id": "83de707d-5fdc-4e49-99cf-3ac5d7ef1443",
   "metadata": {},
   "outputs": [],
   "source": [
    "# https://chat.openai.com/share/0e72bbc3-edb7-43b5-b985-f654d22fff52\n",
    "# Given the following premises, conclusion and correspoding chain of thought:\n",
    "# premises: ['All athletes are good at sports.', 'All Olympic gold medal winners are good athletes.', 'No scientists are good at sports.', 'All Nobel laureates are scientists.', 'Amy is good at sports or Amy is an Olympic gold medal winner.', 'If Amy is not a Nobel laureate, then Amy is not an Olympic gold medal winner.'] \n",
    "# conclusion: If Amy is not an Olympic gold medal winner, then Amy is a Nobel laureate. \n",
    "# chain of thought: Let's think step by step. We want to evaluate the statement \"if Amy is not an Olympic gold medal winner, then Amy is a Nobel laureate\". Let's assume that Amy is not an Olympic gold medal winner. This doesn't tell us anything about whether Amy is a Nobel laureate, so the statement isn't true, meaning it is either False or Uncertain. To distinguish between the two, notice that we could have a scenario where Amy is neither an Olympic gold medal winner nor a Nobel laureate. None of the premises are violated in this case. This means the statement must be false.\n",
    "# ANSWER:\tFalse\n",
    "# Moreover, FOL expressions of these premises and conclusion are as the following: \n",
    "# premises-FOL: ['all x. (Athlete(x) -> GoodAtSports(x))', 'all x. (OlympicGoldMedalWinner(x) -> Athlete(x))', 'all x. (Scientist(x) -> -GoodAtSports(x))', 'all x. (NobelLaureate(x) -> Scientist(x))', 'GoodAtSports(Amy) | OlympicGoldMedalWinner(Amy)', '-NobelLaureate(Amy) -> -OlympicGoldMedalWinner(Amy)']\n",
    "# conclusion-FOL: -OlympicGoldMedalWinner(Amy) -> NobelLaureate(Amy)\n",
    "# please extract new premises from the chain of thought and translate them into FOL forms according the above FOL examples, and give new premises and corresponding FOLs in python list format:"
   ]
  },
  {
   "cell_type": "code",
   "execution_count": 2,
   "id": "0b0e3eb1-9157-4dec-aa25-00ac18b9b412",
   "metadata": {},
   "outputs": [],
   "source": [
    " train_cots = {\n",
    "            23: \"Let's think step by step. We want to evaluate if in La Liga 2021-2022, Real Madrid ranks higher than Barcelona. From premise 1, we know that a La Liga soccer team ranks higher than another if it receives more points. From premise 4, we know that in La Liga 2021-2022, Real Madrid received more points than Barcelona. Therefore, in La Liga 2021-2022, Real Madrid received more points than Barcelona, so Real Madrid ranks higher than Barcelona, so the statement is true.\\nANSWER:\\tTrue\",\n",
    "            60: \"Let's think step by step. We want to evaluate the statement \\\"if Amy is not an Olympic gold medal winner, then Amy is a Nobel laureate\\\". Let's assume that Amy is not an Olympic gold medal winner. This doesn't tell us anything about whether Amy is a Nobel laureate, so the statement isn't true, meaning it is either False or Uncertain. To distinguish between the two, notice that we could have a scenario where Amy is neither an Olympic gold medal winner nor a Nobel laureate. None of the premises are violated in this case. This means the statement must be false.\\nANSWER:\\tFalse\",\n",
    "            125: \"Let's think step by step. We want to evaluate if a worksheet is not dispensable. From premise 6, we know that a worksheet is either paper or is environment-friendly. If it is paper, then from premise 3, a worksheet is woodware, and from premise 2, a worksheet is dispensable. If it is environment-friendly, we know it is good from premise 5, but we know nothing about whether it is dispensable. Therefore, we don't know if a worksheet is dispensible or not, so the statement is uncertain.\\nANSWER:\\tUncertain\",\n",
    "            148: \"Let's think step by step. We want to evaluate if Inception is a folk song. We know that Inception is a sci-fi movie. Since all movies are videos and Inception is a movie, it is a video, which means it is visual. On the other hand, we know that all folk songs are songs, and no songs are visual, so no folk songs are visual. Therefore, since Inception is visual but no folk songs are visual, we know that Inception cannot be a folk song, so the statement is false.\\nANSWER:\\tFalse\",\n",
    "            261: \"Let's think step by step. We want to evaluate if Luke can make a good breakfast. From the last premise, we know that Luke can make cookies, scrambled eggs, and muffins. Since Luke can make cookies and muffins, they are a baker. Now, combining the information we have, since Luke is a baker and can make scrambled eggs, this means that they can make a good breakfast. Therefore, Luke can make a good breakfast, so the statement is true.\\nANSWER:\\tTrue\",\n",
    "            263: \"Let's think step by step. We want to evaluate if ETS develops assessments for K-12 statewide as well as entry to US tertiary and quaternary educatiand doon institutions. We know that ETS develops assessments for K-12 statewide. We also know that ETS develops assessments associated with entry to the US tertiary and quaternary education institutes. Therefore, both parts of the conclusion are true, and the statement is true.\\nANSWER:\\tTrue\",\n",
    "            275: \"Let's think step by step. We want to evaluate if James contributes to the country. Let's think about what we know about James. First, we know that James was either sentenced for thief or stayed in prison. However, this doesn't tell us anything about whether James contributed to the country. Second, we know that James either had a bad record in the local state or that he was respected by others. However, the premises don't tell us anything about the relationship between having a bad record and contributing to the country. Therefore, it is uncertain whether James contributes to the country.\\nANSWER:\\tUncertain\",\n",
    "            299: \"Let's think step by step. We want to evaluate if John can get the rhythms right. We know that John is a student learning piano. Since all students learning piano can strike the right notes, John can strike the right notes. Since all students who can strike the right notes can get the rhythms right and John can strike the right notes, John can get the rhythms right, so the conclusion is true.\\nANSWER:\\tTrue\",\n",
    "            683: \"Let's think step by step. We want to evaluate if there is a person from BRICS speaking Hindi. We know that there is an Indian, and since India is one of BRICS, we know that there is an Indian in BRICS. Furthermore, we know that they speak either Hindi or English, however, we don't know which one. Therefore, there could be a person in BRICS speaking Hindi, or there could not. Therefore, it is uncertain whether there is a person from BRICS speaking Hindi.\\nANSWER:\\tUncertain\",\n",
    "            684: \"Let's think step by step. We want to evaluate if Hamilton is a film. Since Daveed Diggs played two roles in the musical Hamilton, Hamilton is a musical. Since musicals are not films and Hamilton is a musical, Hamilton is not a film, and the conclusion is false.\\nANSWER:\\tFalse\",\n",
    "            850: \"Let's think step by step. We want to evaluate if Charlie does not like Leo and does not care for Leo. Let's first evaluate if Charlie does not like Leo. We know Charlie has a naughty pet named Leo. Since pets who are naughty are not liked as much, Charlie does not like Leo. Now, let's evaluate if Charlie cares for Leo. We know that if a person has a pet, they care for that pet. Since Leo is Charlie's pet, Charlie cares for Leo. Therefore, Charlie does not like Leo but cares for Leo, so the second part of the conclusion is false, which means the entire conclusion is false.\\nANSWER:\\tFalse\",\n",
    "            853: \"Let's think step by step. We want to evaluate if the Three Body Problem won the Hugo Award. The only thing we know about the Hugo Award is that some books that have won the Hugo Award were written by Cixin Liu. However, we know nothing about whether The Three Body Problem was written by Cixin Liu, so the conclusion is uncertain.\\nANSWER:\\tUncertain\",\n",
    "            886: \"Let's think step by step. We want to evaluate if Dagfinn is Dagfinn Aarskog's given name. We know that Dagfinn is a given name, and that notable people with the given name Dagfinn includes Dagfinn Aarskog, which means that Dagfinn is Dagfinn Aarskog's given name, so the conclusion is true.\\nANSWER:\\tTrue\",\n",
    "            892: \"Let's think step by step. We want to evaluate if Minsk joined the Scottish Premiership. We know that Minsk and St Johnstone are different teams and that St Johnstone is part of the Scottish Premiership, but we don't know anything about whether or not Minsk joined the Scottish Premiership from the premises. Therefore, the conclusion is uncertain.\\nANSWER:\\tUncertain\",\n",
    "            930: \"Let's think step by step. We want to evaluate if Boves is not in Europe. We know that Boves is a railway station located in France. We also know that since France is a European country, France is located in Europe. Furthermore, we know that if A is located in B and B is located in C, then A is located in C. Therefore, we know that because Boves is located in France and France is located in Europe, that means Boves is located in Europe. Therefore, the conclusion is false.\\nANSWER:\\tFalse\",\n",
    "            980: \"Let's think step by step. We want to evaluate if James is either invited to take a photo with the audience or happy to communicate with each other during the dinner. We know that James does not attend the conference in person and is not provided with souvenirs. There are no premises that apply to people who do not attend the conference. Since James is not provided with souvenirs, since all who attended the conference in person are provided with souvenirs, we know that James did not attend the conference in person. However, we don't know anything else, so it is possible that James was neither invited to take a photo with the audience nor happy to communicate during the dinner. Therefore, the conclusion is false.\\nANSWER:\\tFalse\",\n",
    "        }\n",
    "\n"
   ]
  },
  {
   "cell_type": "code",
   "execution_count": 3,
   "id": "7149a63d-bdf7-4626-b98f-a3659944198e",
   "metadata": {},
   "outputs": [],
   "source": [
    "\n"
   ]
  },
  {
   "cell_type": "code",
   "execution_count": 5,
   "id": "e5b6c71f-8506-4310-af6d-85c386f8a6f3",
   "metadata": {},
   "outputs": [],
   "source": []
  },
  {
   "cell_type": "code",
   "execution_count": null,
   "id": "b8a0dc45-119e-4316-85b8-695b59076276",
   "metadata": {},
   "outputs": [],
   "source": [
    "api_key = \"61bc1aab37364618ae0df70bf5f340dd\"\n",
    "api_version = \"2024-02-15-preview\"\n",
    "endpoint = \"https://anankeus.openai.azure.com/\"\n",
    "api_chat_model = \"Ananke3-1106-US-WEST\"\n",
    "api_embed_model = \"AnankeEmbedding-US-WEST\"\n",
    "os.environ['AZURE_OPENAI_API_KEY'] = api_key\n",
    "system_prompt = \"You are an AI assistant that helps people find information.\"\n",
    "message_text = [{\"role\": \"system\", \"content\": system_prompt}, {\"role\":\"user\",\"content\": entity_prompt +content}]\n",
    "\n",
    "# message_text = [{\"role\":\"system\",\"content\":entity_prompt}]\n",
    "# print(message_text)\n",
    "client = Azure(\n",
    "    api_key= api_key,  #密钥1或者密钥2选一个就行\n",
    "    api_version= api_version,\n",
    "    azure_endpoint= endpoint, #设定画面上的，格式如 https://xxxxx.openai.azure.com/\n",
    "    chat_model_name = api_chat_model, embedding_model_name = api_embed_model\n",
    ")"
   ]
  }
 ],
 "metadata": {
  "kernelspec": {
   "display_name": "Python 3 (ipykernel)",
   "language": "python",
   "name": "python3"
  },
  "language_info": {
   "codemirror_mode": {
    "name": "ipython",
    "version": 3
   },
   "file_extension": ".py",
   "mimetype": "text/x-python",
   "name": "python",
   "nbconvert_exporter": "python",
   "pygments_lexer": "ipython3",
   "version": "3.10.11"
  }
 },
 "nbformat": 4,
 "nbformat_minor": 5
}
